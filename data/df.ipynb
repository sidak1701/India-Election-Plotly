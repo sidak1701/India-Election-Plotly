{
 "cells": [
  {
   "cell_type": "code",
   "execution_count": 1,
   "metadata": {},
   "outputs": [],
   "source": [
    "import pandas as pd"
   ]
  },
  {
   "cell_type": "code",
   "execution_count": 2,
   "metadata": {},
   "outputs": [],
   "source": [
    "df_cor = pd.read_csv('India States-UTs.csv')\n",
    "df_eci = pd.read_csv(\"eci_data_2024.csv\",encoding='mac_roman')\n"
   ]
  },
  {
   "cell_type": "code",
   "execution_count": 3,
   "metadata": {},
   "outputs": [
    {
     "data": {
      "text/html": [
       "<div>\n",
       "<style scoped>\n",
       "    .dataframe tbody tr th:only-of-type {\n",
       "        vertical-align: middle;\n",
       "    }\n",
       "\n",
       "    .dataframe tbody tr th {\n",
       "        vertical-align: top;\n",
       "    }\n",
       "\n",
       "    .dataframe thead th {\n",
       "        text-align: right;\n",
       "    }\n",
       "</style>\n",
       "<table border=\"1\" class=\"dataframe\">\n",
       "  <thead>\n",
       "    <tr style=\"text-align: right;\">\n",
       "      <th></th>\n",
       "      <th>State/UT</th>\n",
       "      <th>Latitude</th>\n",
       "      <th>Longitude</th>\n",
       "    </tr>\n",
       "  </thead>\n",
       "  <tbody>\n",
       "    <tr>\n",
       "      <th>0</th>\n",
       "      <td>Andaman and Nicobar Islands</td>\n",
       "      <td>11.7401</td>\n",
       "      <td>92.6586</td>\n",
       "    </tr>\n",
       "    <tr>\n",
       "      <th>1</th>\n",
       "      <td>Andhra Pradesh</td>\n",
       "      <td>15.9129</td>\n",
       "      <td>79.7400</td>\n",
       "    </tr>\n",
       "    <tr>\n",
       "      <th>2</th>\n",
       "      <td>Arunachal Pradesh</td>\n",
       "      <td>28.2180</td>\n",
       "      <td>94.7278</td>\n",
       "    </tr>\n",
       "    <tr>\n",
       "      <th>3</th>\n",
       "      <td>Assam</td>\n",
       "      <td>31.1048</td>\n",
       "      <td>77.1734</td>\n",
       "    </tr>\n",
       "    <tr>\n",
       "      <th>4</th>\n",
       "      <td>Bihar</td>\n",
       "      <td>25.0961</td>\n",
       "      <td>85.3131</td>\n",
       "    </tr>\n",
       "  </tbody>\n",
       "</table>\n",
       "</div>"
      ],
      "text/plain": [
       "                      State/UT  Latitude  Longitude\n",
       "0  Andaman and Nicobar Islands   11.7401    92.6586\n",
       "1               Andhra Pradesh   15.9129    79.7400\n",
       "2            Arunachal Pradesh   28.2180    94.7278\n",
       "3                        Assam   31.1048    77.1734\n",
       "4                        Bihar   25.0961    85.3131"
      ]
     },
     "execution_count": 3,
     "metadata": {},
     "output_type": "execute_result"
    }
   ],
   "source": [
    "df_cor.head()"
   ]
  },
  {
   "cell_type": "code",
   "execution_count": 4,
   "metadata": {},
   "outputs": [
    {
     "data": {
      "text/html": [
       "<div>\n",
       "<style scoped>\n",
       "    .dataframe tbody tr th:only-of-type {\n",
       "        vertical-align: middle;\n",
       "    }\n",
       "\n",
       "    .dataframe tbody tr th {\n",
       "        vertical-align: top;\n",
       "    }\n",
       "\n",
       "    .dataframe thead th {\n",
       "        text-align: right;\n",
       "    }\n",
       "</style>\n",
       "<table border=\"1\" class=\"dataframe\">\n",
       "  <thead>\n",
       "    <tr style=\"text-align: right;\">\n",
       "      <th></th>\n",
       "      <th>S.N</th>\n",
       "      <th>Candidate</th>\n",
       "      <th>Party</th>\n",
       "      <th>EVM Votes</th>\n",
       "      <th>Postal Votes</th>\n",
       "      <th>Total Votes</th>\n",
       "      <th>% of Votes</th>\n",
       "      <th>State</th>\n",
       "      <th>Constituency</th>\n",
       "    </tr>\n",
       "  </thead>\n",
       "  <tbody>\n",
       "    <tr>\n",
       "      <th>0</th>\n",
       "      <td>1</td>\n",
       "      <td>BISHNU PADA RAY</td>\n",
       "      <td>Bharatiya Janata Party</td>\n",
       "      <td>102182</td>\n",
       "      <td>254</td>\n",
       "      <td>102436</td>\n",
       "      <td>50.58</td>\n",
       "      <td>Andaman &amp; Nicobar Islands</td>\n",
       "      <td>Andaman &amp; Nicobar Islands - 1</td>\n",
       "    </tr>\n",
       "    <tr>\n",
       "      <th>1</th>\n",
       "      <td>2</td>\n",
       "      <td>KULDEEP RAI SHARMA</td>\n",
       "      <td>Indian National Congress</td>\n",
       "      <td>77829</td>\n",
       "      <td>211</td>\n",
       "      <td>78040</td>\n",
       "      <td>38.54</td>\n",
       "      <td>Andaman &amp; Nicobar Islands</td>\n",
       "      <td>Andaman &amp; Nicobar Islands - 1</td>\n",
       "    </tr>\n",
       "    <tr>\n",
       "      <th>2</th>\n",
       "      <td>3</td>\n",
       "      <td>MANOJ PAUL</td>\n",
       "      <td>Andaman Nicobar Democratic Congress</td>\n",
       "      <td>8236</td>\n",
       "      <td>18</td>\n",
       "      <td>8254</td>\n",
       "      <td>4.08</td>\n",
       "      <td>Andaman &amp; Nicobar Islands</td>\n",
       "      <td>Andaman &amp; Nicobar Islands - 1</td>\n",
       "    </tr>\n",
       "    <tr>\n",
       "      <th>3</th>\n",
       "      <td>4</td>\n",
       "      <td>D AYYAPPAN</td>\n",
       "      <td>Communist Party of India (Marxist)</td>\n",
       "      <td>6009</td>\n",
       "      <td>8</td>\n",
       "      <td>6017</td>\n",
       "      <td>2.97</td>\n",
       "      <td>Andaman &amp; Nicobar Islands</td>\n",
       "      <td>Andaman &amp; Nicobar Islands - 1</td>\n",
       "    </tr>\n",
       "    <tr>\n",
       "      <th>4</th>\n",
       "      <td>5</td>\n",
       "      <td>V.K. ABDUL AZIZ</td>\n",
       "      <td>Independent</td>\n",
       "      <td>2195</td>\n",
       "      <td>8</td>\n",
       "      <td>2203</td>\n",
       "      <td>1.09</td>\n",
       "      <td>Andaman &amp; Nicobar Islands</td>\n",
       "      <td>Andaman &amp; Nicobar Islands - 1</td>\n",
       "    </tr>\n",
       "  </tbody>\n",
       "</table>\n",
       "</div>"
      ],
      "text/plain": [
       "   S.N           Candidate                                Party EVM Votes  \\\n",
       "0    1     BISHNU PADA RAY               Bharatiya Janata Party    102182   \n",
       "1    2  KULDEEP RAI SHARMA             Indian National Congress     77829   \n",
       "2    3          MANOJ PAUL  Andaman Nicobar Democratic Congress      8236   \n",
       "3    4          D AYYAPPAN   Communist Party of India (Marxist)      6009   \n",
       "4    5     V.K. ABDUL AZIZ                          Independent      2195   \n",
       "\n",
       "  Postal Votes Total Votes % of Votes                      State  \\\n",
       "0          254      102436      50.58  Andaman & Nicobar Islands   \n",
       "1          211       78040      38.54  Andaman & Nicobar Islands   \n",
       "2           18        8254       4.08  Andaman & Nicobar Islands   \n",
       "3            8        6017       2.97  Andaman & Nicobar Islands   \n",
       "4            8        2203       1.09  Andaman & Nicobar Islands   \n",
       "\n",
       "                    Constituency  \n",
       "0  Andaman & Nicobar Islands - 1  \n",
       "1  Andaman & Nicobar Islands - 1  \n",
       "2  Andaman & Nicobar Islands - 1  \n",
       "3  Andaman & Nicobar Islands - 1  \n",
       "4  Andaman & Nicobar Islands - 1  "
      ]
     },
     "execution_count": 4,
     "metadata": {},
     "output_type": "execute_result"
    }
   ],
   "source": [
    "df_eci.head()"
   ]
  },
  {
   "cell_type": "code",
   "execution_count": 5,
   "metadata": {},
   "outputs": [],
   "source": [
    "df_eci[['EVM Votes', 'Postal Votes', 'Total Votes']] = df_eci[['EVM Votes', 'Postal Votes', 'Total Votes']].apply(pd.to_numeric, errors='coerce')\n"
   ]
  },
  {
   "cell_type": "code",
   "execution_count": 6,
   "metadata": {},
   "outputs": [
    {
     "data": {
      "text/html": [
       "<div>\n",
       "<style scoped>\n",
       "    .dataframe tbody tr th:only-of-type {\n",
       "        vertical-align: middle;\n",
       "    }\n",
       "\n",
       "    .dataframe tbody tr th {\n",
       "        vertical-align: top;\n",
       "    }\n",
       "\n",
       "    .dataframe thead th {\n",
       "        text-align: right;\n",
       "    }\n",
       "</style>\n",
       "<table border=\"1\" class=\"dataframe\">\n",
       "  <thead>\n",
       "    <tr style=\"text-align: right;\">\n",
       "      <th></th>\n",
       "      <th>State</th>\n",
       "      <th>Party</th>\n",
       "      <th>EVM Votes</th>\n",
       "      <th>Postal Votes</th>\n",
       "      <th>Total Votes</th>\n",
       "    </tr>\n",
       "  </thead>\n",
       "  <tbody>\n",
       "    <tr>\n",
       "      <th>0</th>\n",
       "      <td>Andaman &amp; Nicobar Islands</td>\n",
       "      <td>All India Anna Dravida Munnetra Kazhagam</td>\n",
       "      <td>911.0</td>\n",
       "      <td>3.0</td>\n",
       "      <td>914.0</td>\n",
       "    </tr>\n",
       "    <tr>\n",
       "      <th>1</th>\n",
       "      <td>Andaman &amp; Nicobar Islands</td>\n",
       "      <td>Andaman Nicobar Democratic Congress</td>\n",
       "      <td>8236.0</td>\n",
       "      <td>18.0</td>\n",
       "      <td>8254.0</td>\n",
       "    </tr>\n",
       "    <tr>\n",
       "      <th>2</th>\n",
       "      <td>Andaman &amp; Nicobar Islands</td>\n",
       "      <td>Bahujan Samaj Party</td>\n",
       "      <td>714.0</td>\n",
       "      <td>5.0</td>\n",
       "      <td>719.0</td>\n",
       "    </tr>\n",
       "    <tr>\n",
       "      <th>3</th>\n",
       "      <td>Andaman &amp; Nicobar Islands</td>\n",
       "      <td>Bharatiya Janata Party</td>\n",
       "      <td>102182.0</td>\n",
       "      <td>254.0</td>\n",
       "      <td>102436.0</td>\n",
       "    </tr>\n",
       "    <tr>\n",
       "      <th>4</th>\n",
       "      <td>Andaman &amp; Nicobar Islands</td>\n",
       "      <td>Communist Party of India (Marxist)</td>\n",
       "      <td>6009.0</td>\n",
       "      <td>8.0</td>\n",
       "      <td>6017.0</td>\n",
       "    </tr>\n",
       "    <tr>\n",
       "      <th>...</th>\n",
       "      <td>...</td>\n",
       "      <td>...</td>\n",
       "      <td>...</td>\n",
       "      <td>...</td>\n",
       "      <td>...</td>\n",
       "    </tr>\n",
       "    <tr>\n",
       "      <th>1331</th>\n",
       "      <td>West Bengal</td>\n",
       "      <td>Revolutionary Socialist Party</td>\n",
       "      <td>133432.0</td>\n",
       "      <td>607.0</td>\n",
       "      <td>134039.0</td>\n",
       "    </tr>\n",
       "    <tr>\n",
       "      <th>1332</th>\n",
       "      <td>West Bengal</td>\n",
       "      <td>Right to Recall Party</td>\n",
       "      <td>1537.0</td>\n",
       "      <td>7.0</td>\n",
       "      <td>1544.0</td>\n",
       "    </tr>\n",
       "    <tr>\n",
       "      <th>1333</th>\n",
       "      <td>West Bengal</td>\n",
       "      <td>Social Democratic Party Of India</td>\n",
       "      <td>11645.0</td>\n",
       "      <td>23.0</td>\n",
       "      <td>11668.0</td>\n",
       "    </tr>\n",
       "    <tr>\n",
       "      <th>1334</th>\n",
       "      <td>West Bengal</td>\n",
       "      <td>Socialist Unity Centre Of India (COMMUNIST)</td>\n",
       "      <td>164633.0</td>\n",
       "      <td>841.0</td>\n",
       "      <td>165474.0</td>\n",
       "    </tr>\n",
       "    <tr>\n",
       "      <th>1335</th>\n",
       "      <td>West Bengal</td>\n",
       "      <td>The National Road Map Party of India</td>\n",
       "      <td>2413.0</td>\n",
       "      <td>5.0</td>\n",
       "      <td>2418.0</td>\n",
       "    </tr>\n",
       "  </tbody>\n",
       "</table>\n",
       "<p>1336 rows × 5 columns</p>\n",
       "</div>"
      ],
      "text/plain": [
       "                          State                                        Party  \\\n",
       "0     Andaman & Nicobar Islands     All India Anna Dravida Munnetra Kazhagam   \n",
       "1     Andaman & Nicobar Islands          Andaman Nicobar Democratic Congress   \n",
       "2     Andaman & Nicobar Islands                          Bahujan Samaj Party   \n",
       "3     Andaman & Nicobar Islands                       Bharatiya Janata Party   \n",
       "4     Andaman & Nicobar Islands           Communist Party of India (Marxist)   \n",
       "...                         ...                                          ...   \n",
       "1331                West Bengal                Revolutionary Socialist Party   \n",
       "1332                West Bengal                        Right to Recall Party   \n",
       "1333                West Bengal             Social Democratic Party Of India   \n",
       "1334                West Bengal  Socialist Unity Centre Of India (COMMUNIST)   \n",
       "1335                West Bengal         The National Road Map Party of India   \n",
       "\n",
       "      EVM Votes  Postal Votes  Total Votes  \n",
       "0         911.0           3.0        914.0  \n",
       "1        8236.0          18.0       8254.0  \n",
       "2         714.0           5.0        719.0  \n",
       "3      102182.0         254.0     102436.0  \n",
       "4        6009.0           8.0       6017.0  \n",
       "...         ...           ...          ...  \n",
       "1331   133432.0         607.0     134039.0  \n",
       "1332     1537.0           7.0       1544.0  \n",
       "1333    11645.0          23.0      11668.0  \n",
       "1334   164633.0         841.0     165474.0  \n",
       "1335     2413.0           5.0       2418.0  \n",
       "\n",
       "[1336 rows x 5 columns]"
      ]
     },
     "execution_count": 6,
     "metadata": {},
     "output_type": "execute_result"
    }
   ],
   "source": [
    "\n",
    "# Group by State and Party, then sum the remaining columns\n",
    "result = df_eci.groupby(['State', 'Party'], as_index=False)[['EVM Votes', 'Postal Votes', 'Total Votes']].sum()\n",
    "\n",
    "result\n"
   ]
  },
  {
   "cell_type": "code",
   "execution_count": 7,
   "metadata": {},
   "outputs": [
    {
     "data": {
      "text/plain": [
       "array(['Andaman & Nicobar Islands', 'Andhra Pradesh', 'Arunachal Pradesh',\n",
       "       'Assam', 'Bihar', 'Chandigarh', 'Chhattisgarh',\n",
       "       'Dadra & Nagar Haveli and Daman & Diu', 'Goa', 'Gujarat',\n",
       "       'Haryana', 'Himachal Pradesh', 'Jammu and Kashmir', 'Jharkhand',\n",
       "       'Karnataka', 'Kerala', 'Ladakh', 'Lakshadweep', 'Madhya Pradesh',\n",
       "       'Maharashtra', 'Manipur', 'Meghalaya', 'Mizoram', 'Nagaland',\n",
       "       'NCT OF Delhi', 'Odisha', 'Puducherry', 'Punjab', 'Rajasthan',\n",
       "       'Sikkim', 'Tamil Nadu', 'Telangana', 'Tripura', 'Uttar Pradesh',\n",
       "       'Uttarakhand', 'West Bengal'], dtype=object)"
      ]
     },
     "execution_count": 7,
     "metadata": {},
     "output_type": "execute_result"
    }
   ],
   "source": [
    "df_eci['State'].unique()"
   ]
  },
  {
   "cell_type": "code",
   "execution_count": 8,
   "metadata": {},
   "outputs": [
    {
     "data": {
      "text/plain": [
       "array(['Andaman and Nicobar Islands', 'Andhra Pradesh',\n",
       "       'Arunachal Pradesh', 'Assam', 'Bihar', 'Chhattisgarh',\n",
       "       'Dadra and Nagar Haveli and Daman and Diu', 'Delhi', 'Goa',\n",
       "       'Gujarat', 'Haryana', 'Himachal Pradesh', 'Jharkhand', 'Karnataka',\n",
       "       'Kerala', 'Lakshadweep', 'Madhya Pradesh', 'Maharashtra',\n",
       "       'Manipur', 'Meghalaya', 'Mizoram', 'Nagaland', 'Odisha',\n",
       "       'Puducherry', 'Punjab', 'Rajasthan', 'Sikkim', 'Tamil Nadu',\n",
       "       'Telangana', 'Tripura', 'Chandigarh', 'Jammu and Kashmir',\n",
       "       'Ladakh', 'Uttar Pradesh', 'Uttarakhand', 'West Bengal'],\n",
       "      dtype=object)"
      ]
     },
     "execution_count": 8,
     "metadata": {},
     "output_type": "execute_result"
    }
   ],
   "source": [
    "df_cor['State/UT'].unique()"
   ]
  },
  {
   "cell_type": "code",
   "execution_count": 9,
   "metadata": {},
   "outputs": [],
   "source": [
    "column={'Andaman and Nicobar Islands':'Andaman & Nicobar Islands', 'Dadra and Nagar Haveli and Daman and Diu':'Dadra & Nagar Haveli and Daman & Diu','Delhi':'NCT OF Delhi',}"
   ]
  },
  {
   "cell_type": "code",
   "execution_count": 10,
   "metadata": {},
   "outputs": [],
   "source": [
    "for i in column:\n",
    "    df_cor = df_cor.replace(i,column[i])"
   ]
  },
  {
   "cell_type": "code",
   "execution_count": 11,
   "metadata": {},
   "outputs": [
    {
     "data": {
      "text/plain": [
       "array(['Andaman & Nicobar Islands', 'Andhra Pradesh', 'Arunachal Pradesh',\n",
       "       'Assam', 'Bihar', 'Chhattisgarh',\n",
       "       'Dadra & Nagar Haveli and Daman & Diu', 'NCT OF Delhi', 'Goa',\n",
       "       'Gujarat', 'Haryana', 'Himachal Pradesh', 'Jharkhand', 'Karnataka',\n",
       "       'Kerala', 'Lakshadweep', 'Madhya Pradesh', 'Maharashtra',\n",
       "       'Manipur', 'Meghalaya', 'Mizoram', 'Nagaland', 'Odisha',\n",
       "       'Puducherry', 'Punjab', 'Rajasthan', 'Sikkim', 'Tamil Nadu',\n",
       "       'Telangana', 'Tripura', 'Chandigarh', 'Jammu and Kashmir',\n",
       "       'Ladakh', 'Uttar Pradesh', 'Uttarakhand', 'West Bengal'],\n",
       "      dtype=object)"
      ]
     },
     "execution_count": 11,
     "metadata": {},
     "output_type": "execute_result"
    }
   ],
   "source": [
    "df_cor['State/UT'].unique()"
   ]
  },
  {
   "cell_type": "code",
   "execution_count": 12,
   "metadata": {},
   "outputs": [],
   "source": [
    "merge_df = result.merge(df_cor, how='left', left_on='State', right_on='State/UT')"
   ]
  },
  {
   "cell_type": "code",
   "execution_count": 13,
   "metadata": {},
   "outputs": [],
   "source": [
    "merge_df = merge_df.drop(columns=['State/UT'])"
   ]
  },
  {
   "cell_type": "code",
   "execution_count": 14,
   "metadata": {},
   "outputs": [
    {
     "data": {
      "text/html": [
       "<div>\n",
       "<style scoped>\n",
       "    .dataframe tbody tr th:only-of-type {\n",
       "        vertical-align: middle;\n",
       "    }\n",
       "\n",
       "    .dataframe tbody tr th {\n",
       "        vertical-align: top;\n",
       "    }\n",
       "\n",
       "    .dataframe thead th {\n",
       "        text-align: right;\n",
       "    }\n",
       "</style>\n",
       "<table border=\"1\" class=\"dataframe\">\n",
       "  <thead>\n",
       "    <tr style=\"text-align: right;\">\n",
       "      <th></th>\n",
       "      <th>State</th>\n",
       "      <th>Party</th>\n",
       "      <th>EVM Votes</th>\n",
       "      <th>Postal Votes</th>\n",
       "      <th>Total Votes</th>\n",
       "      <th>Latitude</th>\n",
       "      <th>Longitude</th>\n",
       "    </tr>\n",
       "  </thead>\n",
       "  <tbody>\n",
       "    <tr>\n",
       "      <th>0</th>\n",
       "      <td>Andaman &amp; Nicobar Islands</td>\n",
       "      <td>All India Anna Dravida Munnetra Kazhagam</td>\n",
       "      <td>911.0</td>\n",
       "      <td>3.0</td>\n",
       "      <td>914.0</td>\n",
       "      <td>11.7401</td>\n",
       "      <td>92.6586</td>\n",
       "    </tr>\n",
       "    <tr>\n",
       "      <th>1</th>\n",
       "      <td>Andaman &amp; Nicobar Islands</td>\n",
       "      <td>Andaman Nicobar Democratic Congress</td>\n",
       "      <td>8236.0</td>\n",
       "      <td>18.0</td>\n",
       "      <td>8254.0</td>\n",
       "      <td>11.7401</td>\n",
       "      <td>92.6586</td>\n",
       "    </tr>\n",
       "    <tr>\n",
       "      <th>2</th>\n",
       "      <td>Andaman &amp; Nicobar Islands</td>\n",
       "      <td>Bahujan Samaj Party</td>\n",
       "      <td>714.0</td>\n",
       "      <td>5.0</td>\n",
       "      <td>719.0</td>\n",
       "      <td>11.7401</td>\n",
       "      <td>92.6586</td>\n",
       "    </tr>\n",
       "    <tr>\n",
       "      <th>3</th>\n",
       "      <td>Andaman &amp; Nicobar Islands</td>\n",
       "      <td>Bharatiya Janata Party</td>\n",
       "      <td>102182.0</td>\n",
       "      <td>254.0</td>\n",
       "      <td>102436.0</td>\n",
       "      <td>11.7401</td>\n",
       "      <td>92.6586</td>\n",
       "    </tr>\n",
       "    <tr>\n",
       "      <th>4</th>\n",
       "      <td>Andaman &amp; Nicobar Islands</td>\n",
       "      <td>Communist Party of India (Marxist)</td>\n",
       "      <td>6009.0</td>\n",
       "      <td>8.0</td>\n",
       "      <td>6017.0</td>\n",
       "      <td>11.7401</td>\n",
       "      <td>92.6586</td>\n",
       "    </tr>\n",
       "  </tbody>\n",
       "</table>\n",
       "</div>"
      ],
      "text/plain": [
       "                       State                                     Party  \\\n",
       "0  Andaman & Nicobar Islands  All India Anna Dravida Munnetra Kazhagam   \n",
       "1  Andaman & Nicobar Islands       Andaman Nicobar Democratic Congress   \n",
       "2  Andaman & Nicobar Islands                       Bahujan Samaj Party   \n",
       "3  Andaman & Nicobar Islands                    Bharatiya Janata Party   \n",
       "4  Andaman & Nicobar Islands        Communist Party of India (Marxist)   \n",
       "\n",
       "   EVM Votes  Postal Votes  Total Votes  Latitude  Longitude  \n",
       "0      911.0           3.0        914.0   11.7401    92.6586  \n",
       "1     8236.0          18.0       8254.0   11.7401    92.6586  \n",
       "2      714.0           5.0        719.0   11.7401    92.6586  \n",
       "3   102182.0         254.0     102436.0   11.7401    92.6586  \n",
       "4     6009.0           8.0       6017.0   11.7401    92.6586  "
      ]
     },
     "execution_count": 14,
     "metadata": {},
     "output_type": "execute_result"
    }
   ],
   "source": [
    "merge_df.head()"
   ]
  },
  {
   "cell_type": "code",
   "execution_count": 15,
   "metadata": {},
   "outputs": [
    {
     "data": {
      "text/plain": [
       "Party\n",
       "Aam Janta Party (India)             1\n",
       "Purvanchal Mahapanchayat            1\n",
       "Rashtra Nirman Party                1\n",
       "Rashtra Uday Party                  1\n",
       "Rashtrawadi Janlok Party (Satya)    1\n",
       "                                   ..\n",
       "Jai Samta Party                     1\n",
       "Jan Raajya Party                    1\n",
       "Jan Shakti Ekta Party               1\n",
       "Janhit Sankalp Party                1\n",
       "Yuva Vikas Party                    1\n",
       "Name: count, Length: 166, dtype: int64"
      ]
     },
     "execution_count": 15,
     "metadata": {},
     "output_type": "execute_result"
    }
   ],
   "source": [
    "merge_df[merge_df['State']=='Uttar Pradesh']['Party'].value_counts()"
   ]
  },
  {
   "cell_type": "code",
   "execution_count": 16,
   "metadata": {},
   "outputs": [
    {
     "data": {
      "text/plain": [
       "(1336, 7)"
      ]
     },
     "execution_count": 16,
     "metadata": {},
     "output_type": "execute_result"
    }
   ],
   "source": [
    "merge_df.shape"
   ]
  },
  {
   "cell_type": "code",
   "execution_count": 17,
   "metadata": {},
   "outputs": [],
   "source": [
    "# merge_df.to_csv(\"eci_cor.csv\")"
   ]
  },
  {
   "cell_type": "code",
   "execution_count": null,
   "metadata": {},
   "outputs": [],
   "source": []
  },
  {
   "cell_type": "code",
   "execution_count": 38,
   "metadata": {},
   "outputs": [],
   "source": [
    "filtered_merge_df = merge_df[merge_df['State'] == 'West Bengal']\n",
    "\n",
    "total_votes = filtered_merge_df.groupby('Party').sum().reset_index()\n",
    "\n",
    "# total_votes = merge_df.groupby('State').sum()"
   ]
  },
  {
   "cell_type": "code",
   "execution_count": 46,
   "metadata": {},
   "outputs": [
    {
     "data": {
      "text/html": [
       "<div>\n",
       "<style scoped>\n",
       "    .dataframe tbody tr th:only-of-type {\n",
       "        vertical-align: middle;\n",
       "    }\n",
       "\n",
       "    .dataframe tbody tr th {\n",
       "        vertical-align: top;\n",
       "    }\n",
       "\n",
       "    .dataframe thead th {\n",
       "        text-align: right;\n",
       "    }\n",
       "</style>\n",
       "<table border=\"1\" class=\"dataframe\">\n",
       "  <thead>\n",
       "    <tr style=\"text-align: right;\">\n",
       "      <th></th>\n",
       "      <th>Party</th>\n",
       "      <th>State</th>\n",
       "      <th>EVM Votes</th>\n",
       "      <th>Postal Votes</th>\n",
       "      <th>Total Votes</th>\n",
       "      <th>Latitude</th>\n",
       "      <th>Longitude</th>\n",
       "    </tr>\n",
       "  </thead>\n",
       "  <tbody>\n",
       "    <tr>\n",
       "      <th>3</th>\n",
       "      <td>All India Trinamool Congress</td>\n",
       "      <td>West Bengal</td>\n",
       "      <td>27564561.0</td>\n",
       "      <td>109572.0</td>\n",
       "      <td>27674133.0</td>\n",
       "      <td>22.9868</td>\n",
       "      <td>87.855</td>\n",
       "    </tr>\n",
       "    <tr>\n",
       "      <th>8</th>\n",
       "      <td>Bharatiya Janata Party</td>\n",
       "      <td>West Bengal</td>\n",
       "      <td>23327349.0</td>\n",
       "      <td>103732.0</td>\n",
       "      <td>23431081.0</td>\n",
       "      <td>22.9868</td>\n",
       "      <td>87.855</td>\n",
       "    </tr>\n",
       "    <tr>\n",
       "      <th>14</th>\n",
       "      <td>Communist Party of India (Marxist)</td>\n",
       "      <td>West Bengal</td>\n",
       "      <td>3416941.0</td>\n",
       "      <td>16040.0</td>\n",
       "      <td>3432981.0</td>\n",
       "      <td>22.9868</td>\n",
       "      <td>87.855</td>\n",
       "    </tr>\n",
       "    <tr>\n",
       "      <th>23</th>\n",
       "      <td>Indian National Congress</td>\n",
       "      <td>West Bengal</td>\n",
       "      <td>2818728.0</td>\n",
       "      <td>8327.0</td>\n",
       "      <td>2827055.0</td>\n",
       "      <td>22.9868</td>\n",
       "      <td>87.855</td>\n",
       "    </tr>\n",
       "    <tr>\n",
       "      <th>21</th>\n",
       "      <td>Independent</td>\n",
       "      <td>West Bengal</td>\n",
       "      <td>924975.0</td>\n",
       "      <td>2720.0</td>\n",
       "      <td>927695.0</td>\n",
       "      <td>22.9868</td>\n",
       "      <td>87.855</td>\n",
       "    </tr>\n",
       "  </tbody>\n",
       "</table>\n",
       "</div>"
      ],
      "text/plain": [
       "                                 Party        State   EVM Votes  Postal Votes  \\\n",
       "3         All India Trinamool Congress  West Bengal  27564561.0      109572.0   \n",
       "8               Bharatiya Janata Party  West Bengal  23327349.0      103732.0   \n",
       "14  Communist Party of India (Marxist)  West Bengal   3416941.0       16040.0   \n",
       "23            Indian National Congress  West Bengal   2818728.0        8327.0   \n",
       "21                         Independent  West Bengal    924975.0        2720.0   \n",
       "\n",
       "    Total Votes  Latitude  Longitude  \n",
       "3    27674133.0   22.9868     87.855  \n",
       "8    23431081.0   22.9868     87.855  \n",
       "14    3432981.0   22.9868     87.855  \n",
       "23    2827055.0   22.9868     87.855  \n",
       "21     927695.0   22.9868     87.855  "
      ]
     },
     "execution_count": 46,
     "metadata": {},
     "output_type": "execute_result"
    }
   ],
   "source": [
    "top_5 = total_votes.sort_values(by='Total Votes', ascending=False).head()\n",
    "top_5"
   ]
  },
  {
   "cell_type": "code",
   "execution_count": 39,
   "metadata": {},
   "outputs": [
    {
     "data": {
      "text/html": [
       "<div>\n",
       "<style scoped>\n",
       "    .dataframe tbody tr th:only-of-type {\n",
       "        vertical-align: middle;\n",
       "    }\n",
       "\n",
       "    .dataframe tbody tr th {\n",
       "        vertical-align: top;\n",
       "    }\n",
       "\n",
       "    .dataframe thead th {\n",
       "        text-align: right;\n",
       "    }\n",
       "</style>\n",
       "<table border=\"1\" class=\"dataframe\">\n",
       "  <thead>\n",
       "    <tr style=\"text-align: right;\">\n",
       "      <th></th>\n",
       "      <th>Party</th>\n",
       "      <th>State</th>\n",
       "      <th>EVM Votes</th>\n",
       "      <th>Postal Votes</th>\n",
       "      <th>Total Votes</th>\n",
       "      <th>Latitude</th>\n",
       "      <th>Longitude</th>\n",
       "    </tr>\n",
       "  </thead>\n",
       "  <tbody>\n",
       "    <tr>\n",
       "      <th>0</th>\n",
       "      <td>All India Arya Mahasabha</td>\n",
       "      <td>West Bengal</td>\n",
       "      <td>7324.0</td>\n",
       "      <td>21.0</td>\n",
       "      <td>7345.0</td>\n",
       "      <td>22.9868</td>\n",
       "      <td>87.855</td>\n",
       "    </tr>\n",
       "    <tr>\n",
       "      <th>1</th>\n",
       "      <td>All India Forward Bloc</td>\n",
       "      <td>West Bengal</td>\n",
       "      <td>143946.0</td>\n",
       "      <td>893.0</td>\n",
       "      <td>144839.0</td>\n",
       "      <td>22.9868</td>\n",
       "      <td>87.855</td>\n",
       "    </tr>\n",
       "    <tr>\n",
       "      <th>2</th>\n",
       "      <td>All India Secular Front</td>\n",
       "      <td>West Bengal</td>\n",
       "      <td>649657.0</td>\n",
       "      <td>572.0</td>\n",
       "      <td>650229.0</td>\n",
       "      <td>22.9868</td>\n",
       "      <td>87.855</td>\n",
       "    </tr>\n",
       "    <tr>\n",
       "      <th>3</th>\n",
       "      <td>All India Trinamool Congress</td>\n",
       "      <td>West Bengal</td>\n",
       "      <td>27564561.0</td>\n",
       "      <td>109572.0</td>\n",
       "      <td>27674133.0</td>\n",
       "      <td>22.9868</td>\n",
       "      <td>87.855</td>\n",
       "    </tr>\n",
       "    <tr>\n",
       "      <th>4</th>\n",
       "      <td>Ambedkarite Party of India</td>\n",
       "      <td>West Bengal</td>\n",
       "      <td>38340.0</td>\n",
       "      <td>133.0</td>\n",
       "      <td>38473.0</td>\n",
       "      <td>22.9868</td>\n",
       "      <td>87.855</td>\n",
       "    </tr>\n",
       "    <tr>\n",
       "      <th>5</th>\n",
       "      <td>Bahujan Maha Party</td>\n",
       "      <td>West Bengal</td>\n",
       "      <td>1256.0</td>\n",
       "      <td>2.0</td>\n",
       "      <td>1258.0</td>\n",
       "      <td>22.9868</td>\n",
       "      <td>87.855</td>\n",
       "    </tr>\n",
       "    <tr>\n",
       "      <th>6</th>\n",
       "      <td>Bahujan Samaj Party</td>\n",
       "      <td>West Bengal</td>\n",
       "      <td>228652.0</td>\n",
       "      <td>1076.0</td>\n",
       "      <td>229728.0</td>\n",
       "      <td>22.9868</td>\n",
       "      <td>87.855</td>\n",
       "    </tr>\n",
       "    <tr>\n",
       "      <th>7</th>\n",
       "      <td>Bharatheeya Jawan Kisan Party</td>\n",
       "      <td>West Bengal</td>\n",
       "      <td>4246.0</td>\n",
       "      <td>7.0</td>\n",
       "      <td>4253.0</td>\n",
       "      <td>22.9868</td>\n",
       "      <td>87.855</td>\n",
       "    </tr>\n",
       "    <tr>\n",
       "      <th>8</th>\n",
       "      <td>Bharatiya Janata Party</td>\n",
       "      <td>West Bengal</td>\n",
       "      <td>23327349.0</td>\n",
       "      <td>103732.0</td>\n",
       "      <td>23431081.0</td>\n",
       "      <td>22.9868</td>\n",
       "      <td>87.855</td>\n",
       "    </tr>\n",
       "    <tr>\n",
       "      <th>9</th>\n",
       "      <td>Bharatiya National Janata Dal</td>\n",
       "      <td>West Bengal</td>\n",
       "      <td>6166.0</td>\n",
       "      <td>30.0</td>\n",
       "      <td>6196.0</td>\n",
       "      <td>22.9868</td>\n",
       "      <td>87.855</td>\n",
       "    </tr>\n",
       "    <tr>\n",
       "      <th>10</th>\n",
       "      <td>Bharatiya Nyay-Adhikar Raksha Party</td>\n",
       "      <td>West Bengal</td>\n",
       "      <td>22756.0</td>\n",
       "      <td>72.0</td>\n",
       "      <td>22828.0</td>\n",
       "      <td>22.9868</td>\n",
       "      <td>87.855</td>\n",
       "    </tr>\n",
       "    <tr>\n",
       "      <th>11</th>\n",
       "      <td>Bhartiya Lokmat Rashtrwadi Party</td>\n",
       "      <td>West Bengal</td>\n",
       "      <td>10570.0</td>\n",
       "      <td>31.0</td>\n",
       "      <td>10601.0</td>\n",
       "      <td>22.9868</td>\n",
       "      <td>87.855</td>\n",
       "    </tr>\n",
       "    <tr>\n",
       "      <th>12</th>\n",
       "      <td>Bhumiputra United Party</td>\n",
       "      <td>West Bengal</td>\n",
       "      <td>3003.0</td>\n",
       "      <td>15.0</td>\n",
       "      <td>3018.0</td>\n",
       "      <td>22.9868</td>\n",
       "      <td>87.855</td>\n",
       "    </tr>\n",
       "    <tr>\n",
       "      <th>13</th>\n",
       "      <td>Communist Party of India</td>\n",
       "      <td>West Bengal</td>\n",
       "      <td>131744.0</td>\n",
       "      <td>949.0</td>\n",
       "      <td>132693.0</td>\n",
       "      <td>22.9868</td>\n",
       "      <td>87.855</td>\n",
       "    </tr>\n",
       "    <tr>\n",
       "      <th>14</th>\n",
       "      <td>Communist Party of India (Marxist)</td>\n",
       "      <td>West Bengal</td>\n",
       "      <td>3416941.0</td>\n",
       "      <td>16040.0</td>\n",
       "      <td>3432981.0</td>\n",
       "      <td>22.9868</td>\n",
       "      <td>87.855</td>\n",
       "    </tr>\n",
       "    <tr>\n",
       "      <th>15</th>\n",
       "      <td>Communist Party of India (Marxist-Leninist) (L...</td>\n",
       "      <td>West Bengal</td>\n",
       "      <td>4163.0</td>\n",
       "      <td>19.0</td>\n",
       "      <td>4182.0</td>\n",
       "      <td>22.9868</td>\n",
       "      <td>87.855</td>\n",
       "    </tr>\n",
       "    <tr>\n",
       "      <th>16</th>\n",
       "      <td>Democratic Socialist Party of India</td>\n",
       "      <td>West Bengal</td>\n",
       "      <td>880.0</td>\n",
       "      <td>5.0</td>\n",
       "      <td>885.0</td>\n",
       "      <td>22.9868</td>\n",
       "      <td>87.855</td>\n",
       "    </tr>\n",
       "    <tr>\n",
       "      <th>17</th>\n",
       "      <td>Gana Suraksha Party</td>\n",
       "      <td>West Bengal</td>\n",
       "      <td>1522.0</td>\n",
       "      <td>30.0</td>\n",
       "      <td>1552.0</td>\n",
       "      <td>22.9868</td>\n",
       "      <td>87.855</td>\n",
       "    </tr>\n",
       "    <tr>\n",
       "      <th>18</th>\n",
       "      <td>Gorkha Rashtriya Congress</td>\n",
       "      <td>West Bengal</td>\n",
       "      <td>1270.0</td>\n",
       "      <td>61.0</td>\n",
       "      <td>1331.0</td>\n",
       "      <td>22.9868</td>\n",
       "      <td>87.855</td>\n",
       "    </tr>\n",
       "    <tr>\n",
       "      <th>19</th>\n",
       "      <td>Guruchand Sena Dal</td>\n",
       "      <td>West Bengal</td>\n",
       "      <td>581.0</td>\n",
       "      <td>2.0</td>\n",
       "      <td>583.0</td>\n",
       "      <td>22.9868</td>\n",
       "      <td>87.855</td>\n",
       "    </tr>\n",
       "    <tr>\n",
       "      <th>20</th>\n",
       "      <td>Hindustan Shakti Sena</td>\n",
       "      <td>West Bengal</td>\n",
       "      <td>2048.0</td>\n",
       "      <td>4.0</td>\n",
       "      <td>2052.0</td>\n",
       "      <td>22.9868</td>\n",
       "      <td>87.855</td>\n",
       "    </tr>\n",
       "    <tr>\n",
       "      <th>21</th>\n",
       "      <td>Independent</td>\n",
       "      <td>West Bengal</td>\n",
       "      <td>924975.0</td>\n",
       "      <td>2720.0</td>\n",
       "      <td>927695.0</td>\n",
       "      <td>22.9868</td>\n",
       "      <td>87.855</td>\n",
       "    </tr>\n",
       "    <tr>\n",
       "      <th>22</th>\n",
       "      <td>India Manus Party</td>\n",
       "      <td>West Bengal</td>\n",
       "      <td>977.0</td>\n",
       "      <td>5.0</td>\n",
       "      <td>982.0</td>\n",
       "      <td>22.9868</td>\n",
       "      <td>87.855</td>\n",
       "    </tr>\n",
       "    <tr>\n",
       "      <th>23</th>\n",
       "      <td>Indian National Congress</td>\n",
       "      <td>West Bengal</td>\n",
       "      <td>2818728.0</td>\n",
       "      <td>8327.0</td>\n",
       "      <td>2827055.0</td>\n",
       "      <td>22.9868</td>\n",
       "      <td>87.855</td>\n",
       "    </tr>\n",
       "    <tr>\n",
       "      <th>24</th>\n",
       "      <td>Indian National Socialistic Action Forces</td>\n",
       "      <td>West Bengal</td>\n",
       "      <td>4083.0</td>\n",
       "      <td>24.0</td>\n",
       "      <td>4107.0</td>\n",
       "      <td>22.9868</td>\n",
       "      <td>87.855</td>\n",
       "    </tr>\n",
       "    <tr>\n",
       "      <th>25</th>\n",
       "      <td>Indian Unity Centre</td>\n",
       "      <td>West Bengal</td>\n",
       "      <td>1568.0</td>\n",
       "      <td>4.0</td>\n",
       "      <td>1572.0</td>\n",
       "      <td>22.9868</td>\n",
       "      <td>87.855</td>\n",
       "    </tr>\n",
       "    <tr>\n",
       "      <th>26</th>\n",
       "      <td>Jai Prakash Janata Dal</td>\n",
       "      <td>West Bengal</td>\n",
       "      <td>1978.0</td>\n",
       "      <td>2.0</td>\n",
       "      <td>1980.0</td>\n",
       "      <td>22.9868</td>\n",
       "      <td>87.855</td>\n",
       "    </tr>\n",
       "    <tr>\n",
       "      <th>27</th>\n",
       "      <td>Jamat-E-Seratul Mustakim</td>\n",
       "      <td>West Bengal</td>\n",
       "      <td>737.0</td>\n",
       "      <td>4.0</td>\n",
       "      <td>741.0</td>\n",
       "      <td>22.9868</td>\n",
       "      <td>87.855</td>\n",
       "    </tr>\n",
       "    <tr>\n",
       "      <th>28</th>\n",
       "      <td>Jan Sangh Party</td>\n",
       "      <td>West Bengal</td>\n",
       "      <td>3379.0</td>\n",
       "      <td>5.0</td>\n",
       "      <td>3384.0</td>\n",
       "      <td>22.9868</td>\n",
       "      <td>87.855</td>\n",
       "    </tr>\n",
       "    <tr>\n",
       "      <th>29</th>\n",
       "      <td>Jharkhand People's Party</td>\n",
       "      <td>West Bengal</td>\n",
       "      <td>19408.0</td>\n",
       "      <td>86.0</td>\n",
       "      <td>19494.0</td>\n",
       "      <td>22.9868</td>\n",
       "      <td>87.855</td>\n",
       "    </tr>\n",
       "    <tr>\n",
       "      <th>30</th>\n",
       "      <td>Kamatapur People‚Äôs Party (United)</td>\n",
       "      <td>West Bengal</td>\n",
       "      <td>11066.0</td>\n",
       "      <td>140.0</td>\n",
       "      <td>11206.0</td>\n",
       "      <td>22.9868</td>\n",
       "      <td>87.855</td>\n",
       "    </tr>\n",
       "    <tr>\n",
       "      <th>31</th>\n",
       "      <td>Kisan Mazdoor Sangharsh Party</td>\n",
       "      <td>West Bengal</td>\n",
       "      <td>14963.0</td>\n",
       "      <td>107.0</td>\n",
       "      <td>15070.0</td>\n",
       "      <td>22.9868</td>\n",
       "      <td>87.855</td>\n",
       "    </tr>\n",
       "    <tr>\n",
       "      <th>32</th>\n",
       "      <td>Mera Bharat Mahan Party</td>\n",
       "      <td>West Bengal</td>\n",
       "      <td>602.0</td>\n",
       "      <td>2.0</td>\n",
       "      <td>604.0</td>\n",
       "      <td>22.9868</td>\n",
       "      <td>87.855</td>\n",
       "    </tr>\n",
       "    <tr>\n",
       "      <th>33</th>\n",
       "      <td>Mission Naya Digant Party</td>\n",
       "      <td>West Bengal</td>\n",
       "      <td>768.0</td>\n",
       "      <td>4.0</td>\n",
       "      <td>772.0</td>\n",
       "      <td>22.9868</td>\n",
       "      <td>87.855</td>\n",
       "    </tr>\n",
       "    <tr>\n",
       "      <th>34</th>\n",
       "      <td>Mulnibasi Party of India</td>\n",
       "      <td>West Bengal</td>\n",
       "      <td>14099.0</td>\n",
       "      <td>69.0</td>\n",
       "      <td>14168.0</td>\n",
       "      <td>22.9868</td>\n",
       "      <td>87.855</td>\n",
       "    </tr>\n",
       "    <tr>\n",
       "      <th>35</th>\n",
       "      <td>None of the Above</td>\n",
       "      <td>West Bengal</td>\n",
       "      <td>522724.0</td>\n",
       "      <td>2230.0</td>\n",
       "      <td>524954.0</td>\n",
       "      <td>22.9868</td>\n",
       "      <td>87.855</td>\n",
       "    </tr>\n",
       "    <tr>\n",
       "      <th>36</th>\n",
       "      <td>North Bengal People‚Äôs Party</td>\n",
       "      <td>West Bengal</td>\n",
       "      <td>5987.0</td>\n",
       "      <td>86.0</td>\n",
       "      <td>6073.0</td>\n",
       "      <td>22.9868</td>\n",
       "      <td>87.855</td>\n",
       "    </tr>\n",
       "    <tr>\n",
       "      <th>37</th>\n",
       "      <td>Party for Democratic Socialism</td>\n",
       "      <td>West Bengal</td>\n",
       "      <td>6633.0</td>\n",
       "      <td>18.0</td>\n",
       "      <td>6651.0</td>\n",
       "      <td>22.9868</td>\n",
       "      <td>87.855</td>\n",
       "    </tr>\n",
       "    <tr>\n",
       "      <th>38</th>\n",
       "      <td>Pyramid Party of India</td>\n",
       "      <td>West Bengal</td>\n",
       "      <td>649.0</td>\n",
       "      <td>10.0</td>\n",
       "      <td>659.0</td>\n",
       "      <td>22.9868</td>\n",
       "      <td>87.855</td>\n",
       "    </tr>\n",
       "    <tr>\n",
       "      <th>39</th>\n",
       "      <td>Rashtriya Secular Majlis Party</td>\n",
       "      <td>West Bengal</td>\n",
       "      <td>1130.0</td>\n",
       "      <td>6.0</td>\n",
       "      <td>1136.0</td>\n",
       "      <td>22.9868</td>\n",
       "      <td>87.855</td>\n",
       "    </tr>\n",
       "    <tr>\n",
       "      <th>40</th>\n",
       "      <td>Revolutionary Socialist Party</td>\n",
       "      <td>West Bengal</td>\n",
       "      <td>133432.0</td>\n",
       "      <td>607.0</td>\n",
       "      <td>134039.0</td>\n",
       "      <td>22.9868</td>\n",
       "      <td>87.855</td>\n",
       "    </tr>\n",
       "    <tr>\n",
       "      <th>41</th>\n",
       "      <td>Right to Recall Party</td>\n",
       "      <td>West Bengal</td>\n",
       "      <td>1537.0</td>\n",
       "      <td>7.0</td>\n",
       "      <td>1544.0</td>\n",
       "      <td>22.9868</td>\n",
       "      <td>87.855</td>\n",
       "    </tr>\n",
       "    <tr>\n",
       "      <th>42</th>\n",
       "      <td>Social Democratic Party Of India</td>\n",
       "      <td>West Bengal</td>\n",
       "      <td>11645.0</td>\n",
       "      <td>23.0</td>\n",
       "      <td>11668.0</td>\n",
       "      <td>22.9868</td>\n",
       "      <td>87.855</td>\n",
       "    </tr>\n",
       "    <tr>\n",
       "      <th>43</th>\n",
       "      <td>Socialist Unity Centre Of India (COMMUNIST)</td>\n",
       "      <td>West Bengal</td>\n",
       "      <td>164633.0</td>\n",
       "      <td>841.0</td>\n",
       "      <td>165474.0</td>\n",
       "      <td>22.9868</td>\n",
       "      <td>87.855</td>\n",
       "    </tr>\n",
       "    <tr>\n",
       "      <th>44</th>\n",
       "      <td>The National Road Map Party of India</td>\n",
       "      <td>West Bengal</td>\n",
       "      <td>2413.0</td>\n",
       "      <td>5.0</td>\n",
       "      <td>2418.0</td>\n",
       "      <td>22.9868</td>\n",
       "      <td>87.855</td>\n",
       "    </tr>\n",
       "  </tbody>\n",
       "</table>\n",
       "</div>"
      ],
      "text/plain": [
       "                                                Party        State  \\\n",
       "0                            All India Arya Mahasabha  West Bengal   \n",
       "1                              All India Forward Bloc  West Bengal   \n",
       "2                             All India Secular Front  West Bengal   \n",
       "3                        All India Trinamool Congress  West Bengal   \n",
       "4                          Ambedkarite Party of India  West Bengal   \n",
       "5                                  Bahujan Maha Party  West Bengal   \n",
       "6                                 Bahujan Samaj Party  West Bengal   \n",
       "7                       Bharatheeya Jawan Kisan Party  West Bengal   \n",
       "8                              Bharatiya Janata Party  West Bengal   \n",
       "9                       Bharatiya National Janata Dal  West Bengal   \n",
       "10                Bharatiya Nyay-Adhikar Raksha Party  West Bengal   \n",
       "11                   Bhartiya Lokmat Rashtrwadi Party  West Bengal   \n",
       "12                            Bhumiputra United Party  West Bengal   \n",
       "13                           Communist Party of India  West Bengal   \n",
       "14                 Communist Party of India (Marxist)  West Bengal   \n",
       "15  Communist Party of India (Marxist-Leninist) (L...  West Bengal   \n",
       "16                Democratic Socialist Party of India  West Bengal   \n",
       "17                                Gana Suraksha Party  West Bengal   \n",
       "18                          Gorkha Rashtriya Congress  West Bengal   \n",
       "19                                 Guruchand Sena Dal  West Bengal   \n",
       "20                              Hindustan Shakti Sena  West Bengal   \n",
       "21                                        Independent  West Bengal   \n",
       "22                                  India Manus Party  West Bengal   \n",
       "23                           Indian National Congress  West Bengal   \n",
       "24          Indian National Socialistic Action Forces  West Bengal   \n",
       "25                                Indian Unity Centre  West Bengal   \n",
       "26                             Jai Prakash Janata Dal  West Bengal   \n",
       "27                           Jamat-E-Seratul Mustakim  West Bengal   \n",
       "28                                    Jan Sangh Party  West Bengal   \n",
       "29                           Jharkhand People's Party  West Bengal   \n",
       "30                Kamatapur People‚Äôs Party (United)  West Bengal   \n",
       "31                      Kisan Mazdoor Sangharsh Party  West Bengal   \n",
       "32                            Mera Bharat Mahan Party  West Bengal   \n",
       "33                          Mission Naya Digant Party  West Bengal   \n",
       "34                           Mulnibasi Party of India  West Bengal   \n",
       "35                                  None of the Above  West Bengal   \n",
       "36                      North Bengal People‚Äôs Party  West Bengal   \n",
       "37                     Party for Democratic Socialism  West Bengal   \n",
       "38                             Pyramid Party of India  West Bengal   \n",
       "39                     Rashtriya Secular Majlis Party  West Bengal   \n",
       "40                      Revolutionary Socialist Party  West Bengal   \n",
       "41                              Right to Recall Party  West Bengal   \n",
       "42                   Social Democratic Party Of India  West Bengal   \n",
       "43        Socialist Unity Centre Of India (COMMUNIST)  West Bengal   \n",
       "44               The National Road Map Party of India  West Bengal   \n",
       "\n",
       "     EVM Votes  Postal Votes  Total Votes  Latitude  Longitude  \n",
       "0       7324.0          21.0       7345.0   22.9868     87.855  \n",
       "1     143946.0         893.0     144839.0   22.9868     87.855  \n",
       "2     649657.0         572.0     650229.0   22.9868     87.855  \n",
       "3   27564561.0      109572.0   27674133.0   22.9868     87.855  \n",
       "4      38340.0         133.0      38473.0   22.9868     87.855  \n",
       "5       1256.0           2.0       1258.0   22.9868     87.855  \n",
       "6     228652.0        1076.0     229728.0   22.9868     87.855  \n",
       "7       4246.0           7.0       4253.0   22.9868     87.855  \n",
       "8   23327349.0      103732.0   23431081.0   22.9868     87.855  \n",
       "9       6166.0          30.0       6196.0   22.9868     87.855  \n",
       "10     22756.0          72.0      22828.0   22.9868     87.855  \n",
       "11     10570.0          31.0      10601.0   22.9868     87.855  \n",
       "12      3003.0          15.0       3018.0   22.9868     87.855  \n",
       "13    131744.0         949.0     132693.0   22.9868     87.855  \n",
       "14   3416941.0       16040.0    3432981.0   22.9868     87.855  \n",
       "15      4163.0          19.0       4182.0   22.9868     87.855  \n",
       "16       880.0           5.0        885.0   22.9868     87.855  \n",
       "17      1522.0          30.0       1552.0   22.9868     87.855  \n",
       "18      1270.0          61.0       1331.0   22.9868     87.855  \n",
       "19       581.0           2.0        583.0   22.9868     87.855  \n",
       "20      2048.0           4.0       2052.0   22.9868     87.855  \n",
       "21    924975.0        2720.0     927695.0   22.9868     87.855  \n",
       "22       977.0           5.0        982.0   22.9868     87.855  \n",
       "23   2818728.0        8327.0    2827055.0   22.9868     87.855  \n",
       "24      4083.0          24.0       4107.0   22.9868     87.855  \n",
       "25      1568.0           4.0       1572.0   22.9868     87.855  \n",
       "26      1978.0           2.0       1980.0   22.9868     87.855  \n",
       "27       737.0           4.0        741.0   22.9868     87.855  \n",
       "28      3379.0           5.0       3384.0   22.9868     87.855  \n",
       "29     19408.0          86.0      19494.0   22.9868     87.855  \n",
       "30     11066.0         140.0      11206.0   22.9868     87.855  \n",
       "31     14963.0         107.0      15070.0   22.9868     87.855  \n",
       "32       602.0           2.0        604.0   22.9868     87.855  \n",
       "33       768.0           4.0        772.0   22.9868     87.855  \n",
       "34     14099.0          69.0      14168.0   22.9868     87.855  \n",
       "35    522724.0        2230.0     524954.0   22.9868     87.855  \n",
       "36      5987.0          86.0       6073.0   22.9868     87.855  \n",
       "37      6633.0          18.0       6651.0   22.9868     87.855  \n",
       "38       649.0          10.0        659.0   22.9868     87.855  \n",
       "39      1130.0           6.0       1136.0   22.9868     87.855  \n",
       "40    133432.0         607.0     134039.0   22.9868     87.855  \n",
       "41      1537.0           7.0       1544.0   22.9868     87.855  \n",
       "42     11645.0          23.0      11668.0   22.9868     87.855  \n",
       "43    164633.0         841.0     165474.0   22.9868     87.855  \n",
       "44      2413.0           5.0       2418.0   22.9868     87.855  "
      ]
     },
     "execution_count": 39,
     "metadata": {},
     "output_type": "execute_result"
    }
   ],
   "source": [
    "total_votes"
   ]
  },
  {
   "cell_type": "code",
   "execution_count": 47,
   "metadata": {},
   "outputs": [
    {
     "data": {
      "application/vnd.plotly.v1+json": {
       "config": {
        "plotlyServerURL": "https://plot.ly"
       },
       "data": [
        {
         "alignmentgroup": "True",
         "hovertemplate": "Party=%{x}<br>Total Votes=%{y}<extra></extra>",
         "legendgroup": "All India Trinamool Congress",
         "marker": {
          "color": "#636efa",
          "pattern": {
           "shape": ""
          }
         },
         "name": "All India Trinamool Congress",
         "offsetgroup": "All India Trinamool Congress",
         "orientation": "v",
         "showlegend": true,
         "textposition": "auto",
         "type": "bar",
         "x": [
          "All India Trinamool Congress"
         ],
         "xaxis": "x",
         "y": [
          27674133
         ],
         "yaxis": "y"
        },
        {
         "alignmentgroup": "True",
         "hovertemplate": "Party=%{x}<br>Total Votes=%{y}<extra></extra>",
         "legendgroup": "Bharatiya Janata Party",
         "marker": {
          "color": "#EF553B",
          "pattern": {
           "shape": ""
          }
         },
         "name": "Bharatiya Janata Party",
         "offsetgroup": "Bharatiya Janata Party",
         "orientation": "v",
         "showlegend": true,
         "textposition": "auto",
         "type": "bar",
         "x": [
          "Bharatiya Janata Party"
         ],
         "xaxis": "x",
         "y": [
          23431081
         ],
         "yaxis": "y"
        },
        {
         "alignmentgroup": "True",
         "hovertemplate": "Party=%{x}<br>Total Votes=%{y}<extra></extra>",
         "legendgroup": "Communist Party of India (Marxist)",
         "marker": {
          "color": "#00cc96",
          "pattern": {
           "shape": ""
          }
         },
         "name": "Communist Party of India (Marxist)",
         "offsetgroup": "Communist Party of India (Marxist)",
         "orientation": "v",
         "showlegend": true,
         "textposition": "auto",
         "type": "bar",
         "x": [
          "Communist Party of India (Marxist)"
         ],
         "xaxis": "x",
         "y": [
          3432981
         ],
         "yaxis": "y"
        },
        {
         "alignmentgroup": "True",
         "hovertemplate": "Party=%{x}<br>Total Votes=%{y}<extra></extra>",
         "legendgroup": "Indian National Congress",
         "marker": {
          "color": "#ab63fa",
          "pattern": {
           "shape": ""
          }
         },
         "name": "Indian National Congress",
         "offsetgroup": "Indian National Congress",
         "orientation": "v",
         "showlegend": true,
         "textposition": "auto",
         "type": "bar",
         "x": [
          "Indian National Congress"
         ],
         "xaxis": "x",
         "y": [
          2827055
         ],
         "yaxis": "y"
        },
        {
         "alignmentgroup": "True",
         "hovertemplate": "Party=%{x}<br>Total Votes=%{y}<extra></extra>",
         "legendgroup": "Independent",
         "marker": {
          "color": "#FFA15A",
          "pattern": {
           "shape": ""
          }
         },
         "name": "Independent",
         "offsetgroup": "Independent",
         "orientation": "v",
         "showlegend": true,
         "textposition": "auto",
         "type": "bar",
         "x": [
          "Independent"
         ],
         "xaxis": "x",
         "y": [
          927695
         ],
         "yaxis": "y"
        }
       ],
       "layout": {
        "barmode": "relative",
        "legend": {
         "title": {
          "text": "Party"
         },
         "tracegroupgap": 0
        },
        "margin": {
         "t": 60
        },
        "template": {
         "data": {
          "bar": [
           {
            "error_x": {
             "color": "#2a3f5f"
            },
            "error_y": {
             "color": "#2a3f5f"
            },
            "marker": {
             "line": {
              "color": "#E5ECF6",
              "width": 0.5
             },
             "pattern": {
              "fillmode": "overlay",
              "size": 10,
              "solidity": 0.2
             }
            },
            "type": "bar"
           }
          ],
          "barpolar": [
           {
            "marker": {
             "line": {
              "color": "#E5ECF6",
              "width": 0.5
             },
             "pattern": {
              "fillmode": "overlay",
              "size": 10,
              "solidity": 0.2
             }
            },
            "type": "barpolar"
           }
          ],
          "carpet": [
           {
            "aaxis": {
             "endlinecolor": "#2a3f5f",
             "gridcolor": "white",
             "linecolor": "white",
             "minorgridcolor": "white",
             "startlinecolor": "#2a3f5f"
            },
            "baxis": {
             "endlinecolor": "#2a3f5f",
             "gridcolor": "white",
             "linecolor": "white",
             "minorgridcolor": "white",
             "startlinecolor": "#2a3f5f"
            },
            "type": "carpet"
           }
          ],
          "choropleth": [
           {
            "colorbar": {
             "outlinewidth": 0,
             "ticks": ""
            },
            "type": "choropleth"
           }
          ],
          "contour": [
           {
            "colorbar": {
             "outlinewidth": 0,
             "ticks": ""
            },
            "colorscale": [
             [
              0,
              "#0d0887"
             ],
             [
              0.1111111111111111,
              "#46039f"
             ],
             [
              0.2222222222222222,
              "#7201a8"
             ],
             [
              0.3333333333333333,
              "#9c179e"
             ],
             [
              0.4444444444444444,
              "#bd3786"
             ],
             [
              0.5555555555555556,
              "#d8576b"
             ],
             [
              0.6666666666666666,
              "#ed7953"
             ],
             [
              0.7777777777777778,
              "#fb9f3a"
             ],
             [
              0.8888888888888888,
              "#fdca26"
             ],
             [
              1,
              "#f0f921"
             ]
            ],
            "type": "contour"
           }
          ],
          "contourcarpet": [
           {
            "colorbar": {
             "outlinewidth": 0,
             "ticks": ""
            },
            "type": "contourcarpet"
           }
          ],
          "heatmap": [
           {
            "colorbar": {
             "outlinewidth": 0,
             "ticks": ""
            },
            "colorscale": [
             [
              0,
              "#0d0887"
             ],
             [
              0.1111111111111111,
              "#46039f"
             ],
             [
              0.2222222222222222,
              "#7201a8"
             ],
             [
              0.3333333333333333,
              "#9c179e"
             ],
             [
              0.4444444444444444,
              "#bd3786"
             ],
             [
              0.5555555555555556,
              "#d8576b"
             ],
             [
              0.6666666666666666,
              "#ed7953"
             ],
             [
              0.7777777777777778,
              "#fb9f3a"
             ],
             [
              0.8888888888888888,
              "#fdca26"
             ],
             [
              1,
              "#f0f921"
             ]
            ],
            "type": "heatmap"
           }
          ],
          "heatmapgl": [
           {
            "colorbar": {
             "outlinewidth": 0,
             "ticks": ""
            },
            "colorscale": [
             [
              0,
              "#0d0887"
             ],
             [
              0.1111111111111111,
              "#46039f"
             ],
             [
              0.2222222222222222,
              "#7201a8"
             ],
             [
              0.3333333333333333,
              "#9c179e"
             ],
             [
              0.4444444444444444,
              "#bd3786"
             ],
             [
              0.5555555555555556,
              "#d8576b"
             ],
             [
              0.6666666666666666,
              "#ed7953"
             ],
             [
              0.7777777777777778,
              "#fb9f3a"
             ],
             [
              0.8888888888888888,
              "#fdca26"
             ],
             [
              1,
              "#f0f921"
             ]
            ],
            "type": "heatmapgl"
           }
          ],
          "histogram": [
           {
            "marker": {
             "pattern": {
              "fillmode": "overlay",
              "size": 10,
              "solidity": 0.2
             }
            },
            "type": "histogram"
           }
          ],
          "histogram2d": [
           {
            "colorbar": {
             "outlinewidth": 0,
             "ticks": ""
            },
            "colorscale": [
             [
              0,
              "#0d0887"
             ],
             [
              0.1111111111111111,
              "#46039f"
             ],
             [
              0.2222222222222222,
              "#7201a8"
             ],
             [
              0.3333333333333333,
              "#9c179e"
             ],
             [
              0.4444444444444444,
              "#bd3786"
             ],
             [
              0.5555555555555556,
              "#d8576b"
             ],
             [
              0.6666666666666666,
              "#ed7953"
             ],
             [
              0.7777777777777778,
              "#fb9f3a"
             ],
             [
              0.8888888888888888,
              "#fdca26"
             ],
             [
              1,
              "#f0f921"
             ]
            ],
            "type": "histogram2d"
           }
          ],
          "histogram2dcontour": [
           {
            "colorbar": {
             "outlinewidth": 0,
             "ticks": ""
            },
            "colorscale": [
             [
              0,
              "#0d0887"
             ],
             [
              0.1111111111111111,
              "#46039f"
             ],
             [
              0.2222222222222222,
              "#7201a8"
             ],
             [
              0.3333333333333333,
              "#9c179e"
             ],
             [
              0.4444444444444444,
              "#bd3786"
             ],
             [
              0.5555555555555556,
              "#d8576b"
             ],
             [
              0.6666666666666666,
              "#ed7953"
             ],
             [
              0.7777777777777778,
              "#fb9f3a"
             ],
             [
              0.8888888888888888,
              "#fdca26"
             ],
             [
              1,
              "#f0f921"
             ]
            ],
            "type": "histogram2dcontour"
           }
          ],
          "mesh3d": [
           {
            "colorbar": {
             "outlinewidth": 0,
             "ticks": ""
            },
            "type": "mesh3d"
           }
          ],
          "parcoords": [
           {
            "line": {
             "colorbar": {
              "outlinewidth": 0,
              "ticks": ""
             }
            },
            "type": "parcoords"
           }
          ],
          "pie": [
           {
            "automargin": true,
            "type": "pie"
           }
          ],
          "scatter": [
           {
            "fillpattern": {
             "fillmode": "overlay",
             "size": 10,
             "solidity": 0.2
            },
            "type": "scatter"
           }
          ],
          "scatter3d": [
           {
            "line": {
             "colorbar": {
              "outlinewidth": 0,
              "ticks": ""
             }
            },
            "marker": {
             "colorbar": {
              "outlinewidth": 0,
              "ticks": ""
             }
            },
            "type": "scatter3d"
           }
          ],
          "scattercarpet": [
           {
            "marker": {
             "colorbar": {
              "outlinewidth": 0,
              "ticks": ""
             }
            },
            "type": "scattercarpet"
           }
          ],
          "scattergeo": [
           {
            "marker": {
             "colorbar": {
              "outlinewidth": 0,
              "ticks": ""
             }
            },
            "type": "scattergeo"
           }
          ],
          "scattergl": [
           {
            "marker": {
             "colorbar": {
              "outlinewidth": 0,
              "ticks": ""
             }
            },
            "type": "scattergl"
           }
          ],
          "scattermapbox": [
           {
            "marker": {
             "colorbar": {
              "outlinewidth": 0,
              "ticks": ""
             }
            },
            "type": "scattermapbox"
           }
          ],
          "scatterpolar": [
           {
            "marker": {
             "colorbar": {
              "outlinewidth": 0,
              "ticks": ""
             }
            },
            "type": "scatterpolar"
           }
          ],
          "scatterpolargl": [
           {
            "marker": {
             "colorbar": {
              "outlinewidth": 0,
              "ticks": ""
             }
            },
            "type": "scatterpolargl"
           }
          ],
          "scatterternary": [
           {
            "marker": {
             "colorbar": {
              "outlinewidth": 0,
              "ticks": ""
             }
            },
            "type": "scatterternary"
           }
          ],
          "surface": [
           {
            "colorbar": {
             "outlinewidth": 0,
             "ticks": ""
            },
            "colorscale": [
             [
              0,
              "#0d0887"
             ],
             [
              0.1111111111111111,
              "#46039f"
             ],
             [
              0.2222222222222222,
              "#7201a8"
             ],
             [
              0.3333333333333333,
              "#9c179e"
             ],
             [
              0.4444444444444444,
              "#bd3786"
             ],
             [
              0.5555555555555556,
              "#d8576b"
             ],
             [
              0.6666666666666666,
              "#ed7953"
             ],
             [
              0.7777777777777778,
              "#fb9f3a"
             ],
             [
              0.8888888888888888,
              "#fdca26"
             ],
             [
              1,
              "#f0f921"
             ]
            ],
            "type": "surface"
           }
          ],
          "table": [
           {
            "cells": {
             "fill": {
              "color": "#EBF0F8"
             },
             "line": {
              "color": "white"
             }
            },
            "header": {
             "fill": {
              "color": "#C8D4E3"
             },
             "line": {
              "color": "white"
             }
            },
            "type": "table"
           }
          ]
         },
         "layout": {
          "annotationdefaults": {
           "arrowcolor": "#2a3f5f",
           "arrowhead": 0,
           "arrowwidth": 1
          },
          "autotypenumbers": "strict",
          "coloraxis": {
           "colorbar": {
            "outlinewidth": 0,
            "ticks": ""
           }
          },
          "colorscale": {
           "diverging": [
            [
             0,
             "#8e0152"
            ],
            [
             0.1,
             "#c51b7d"
            ],
            [
             0.2,
             "#de77ae"
            ],
            [
             0.3,
             "#f1b6da"
            ],
            [
             0.4,
             "#fde0ef"
            ],
            [
             0.5,
             "#f7f7f7"
            ],
            [
             0.6,
             "#e6f5d0"
            ],
            [
             0.7,
             "#b8e186"
            ],
            [
             0.8,
             "#7fbc41"
            ],
            [
             0.9,
             "#4d9221"
            ],
            [
             1,
             "#276419"
            ]
           ],
           "sequential": [
            [
             0,
             "#0d0887"
            ],
            [
             0.1111111111111111,
             "#46039f"
            ],
            [
             0.2222222222222222,
             "#7201a8"
            ],
            [
             0.3333333333333333,
             "#9c179e"
            ],
            [
             0.4444444444444444,
             "#bd3786"
            ],
            [
             0.5555555555555556,
             "#d8576b"
            ],
            [
             0.6666666666666666,
             "#ed7953"
            ],
            [
             0.7777777777777778,
             "#fb9f3a"
            ],
            [
             0.8888888888888888,
             "#fdca26"
            ],
            [
             1,
             "#f0f921"
            ]
           ],
           "sequentialminus": [
            [
             0,
             "#0d0887"
            ],
            [
             0.1111111111111111,
             "#46039f"
            ],
            [
             0.2222222222222222,
             "#7201a8"
            ],
            [
             0.3333333333333333,
             "#9c179e"
            ],
            [
             0.4444444444444444,
             "#bd3786"
            ],
            [
             0.5555555555555556,
             "#d8576b"
            ],
            [
             0.6666666666666666,
             "#ed7953"
            ],
            [
             0.7777777777777778,
             "#fb9f3a"
            ],
            [
             0.8888888888888888,
             "#fdca26"
            ],
            [
             1,
             "#f0f921"
            ]
           ]
          },
          "colorway": [
           "#636efa",
           "#EF553B",
           "#00cc96",
           "#ab63fa",
           "#FFA15A",
           "#19d3f3",
           "#FF6692",
           "#B6E880",
           "#FF97FF",
           "#FECB52"
          ],
          "font": {
           "color": "#2a3f5f"
          },
          "geo": {
           "bgcolor": "white",
           "lakecolor": "white",
           "landcolor": "#E5ECF6",
           "showlakes": true,
           "showland": true,
           "subunitcolor": "white"
          },
          "hoverlabel": {
           "align": "left"
          },
          "hovermode": "closest",
          "mapbox": {
           "style": "light"
          },
          "paper_bgcolor": "white",
          "plot_bgcolor": "#E5ECF6",
          "polar": {
           "angularaxis": {
            "gridcolor": "white",
            "linecolor": "white",
            "ticks": ""
           },
           "bgcolor": "#E5ECF6",
           "radialaxis": {
            "gridcolor": "white",
            "linecolor": "white",
            "ticks": ""
           }
          },
          "scene": {
           "xaxis": {
            "backgroundcolor": "#E5ECF6",
            "gridcolor": "white",
            "gridwidth": 2,
            "linecolor": "white",
            "showbackground": true,
            "ticks": "",
            "zerolinecolor": "white"
           },
           "yaxis": {
            "backgroundcolor": "#E5ECF6",
            "gridcolor": "white",
            "gridwidth": 2,
            "linecolor": "white",
            "showbackground": true,
            "ticks": "",
            "zerolinecolor": "white"
           },
           "zaxis": {
            "backgroundcolor": "#E5ECF6",
            "gridcolor": "white",
            "gridwidth": 2,
            "linecolor": "white",
            "showbackground": true,
            "ticks": "",
            "zerolinecolor": "white"
           }
          },
          "shapedefaults": {
           "line": {
            "color": "#2a3f5f"
           }
          },
          "ternary": {
           "aaxis": {
            "gridcolor": "white",
            "linecolor": "white",
            "ticks": ""
           },
           "baxis": {
            "gridcolor": "white",
            "linecolor": "white",
            "ticks": ""
           },
           "bgcolor": "#E5ECF6",
           "caxis": {
            "gridcolor": "white",
            "linecolor": "white",
            "ticks": ""
           }
          },
          "title": {
           "x": 0.05
          },
          "xaxis": {
           "automargin": true,
           "gridcolor": "white",
           "linecolor": "white",
           "ticks": "",
           "title": {
            "standoff": 15
           },
           "zerolinecolor": "white",
           "zerolinewidth": 2
          },
          "yaxis": {
           "automargin": true,
           "gridcolor": "white",
           "linecolor": "white",
           "ticks": "",
           "title": {
            "standoff": 15
           },
           "zerolinecolor": "white",
           "zerolinewidth": 2
          }
         }
        },
        "xaxis": {
         "anchor": "y",
         "categoryarray": [
          "All India Trinamool Congress",
          "Bharatiya Janata Party",
          "Communist Party of India (Marxist)",
          "Indian National Congress",
          "Independent"
         ],
         "categoryorder": "array",
         "domain": [
          0,
          1
         ],
         "title": {
          "text": "Party"
         }
        },
        "yaxis": {
         "anchor": "x",
         "domain": [
          0,
          1
         ],
         "title": {
          "text": "Total Votes"
         }
        }
       }
      }
     },
     "metadata": {},
     "output_type": "display_data"
    }
   ],
   "source": [
    "import plotly.express as px\n",
    "percentage_votes = (top_5['EVM Votes']/top_5['Total Votes'])*100\n",
    "# percentage_votes = (top_5['EVM Votes'])\n",
    "\n",
    "px.bar(top_5, x='Party', y='Total Votes', color='Party')"
   ]
  },
  {
   "cell_type": "code",
   "execution_count": 22,
   "metadata": {},
   "outputs": [
    {
     "data": {
      "text/plain": [
       "State\n",
       "Andaman & Nicobar Islands               99.742240\n",
       "Andhra Pradesh                          98.604073\n",
       "Arunachal Pradesh                       95.378757\n",
       "Assam                                   99.468536\n",
       "Bihar                                   99.680135\n",
       "Chandigarh                              99.838184\n",
       "Chhattisgarh                            99.749631\n",
       "Dadra & Nagar Haveli and Daman & Diu    99.844965\n",
       "Goa                                     98.945439\n",
       "Gujarat                                 99.051278\n",
       "Haryana                                 99.607547\n",
       "Himachal Pradesh                        98.252171\n",
       "Jammu and Kashmir                       99.167824\n",
       "Jharkhand                               99.014759\n",
       "Karnataka                               99.613472\n",
       "Kerala                                  98.888758\n",
       "Ladakh                                  97.852779\n",
       "Lakshadweep                             98.841463\n",
       "Madhya Pradesh                          99.731723\n",
       "Maharashtra                             99.633742\n",
       "Manipur                                 99.217071\n",
       "Meghalaya                               99.528320\n",
       "Mizoram                                 99.094917\n",
       "NCT OF Delhi                            99.723508\n",
       "Nagaland                                99.521291\n",
       "Odisha                                  99.494485\n",
       "Puducherry                              99.572864\n",
       "Punjab                                  99.595009\n",
       "Rajasthan                               98.997696\n",
       "Sikkim                                  95.836765\n",
       "Tamil Nadu                              99.394096\n",
       "Telangana                               99.049303\n",
       "Tripura                                 98.720093\n",
       "Uttar Pradesh                           99.730971\n",
       "Uttarakhand                             98.518900\n",
       "West Bengal                             99.588983\n",
       "dtype: float64"
      ]
     },
     "execution_count": 22,
     "metadata": {},
     "output_type": "execute_result"
    }
   ],
   "source": [
    "percentage_votes"
   ]
  },
  {
   "cell_type": "code",
   "execution_count": 49,
   "metadata": {},
   "outputs": [
    {
     "data": {
      "text/html": [
       "<div>\n",
       "<style scoped>\n",
       "    .dataframe tbody tr th:only-of-type {\n",
       "        vertical-align: middle;\n",
       "    }\n",
       "\n",
       "    .dataframe tbody tr th {\n",
       "        vertical-align: top;\n",
       "    }\n",
       "\n",
       "    .dataframe thead th {\n",
       "        text-align: right;\n",
       "    }\n",
       "</style>\n",
       "<table border=\"1\" class=\"dataframe\">\n",
       "  <thead>\n",
       "    <tr style=\"text-align: right;\">\n",
       "      <th></th>\n",
       "      <th>State</th>\n",
       "      <th>Party</th>\n",
       "      <th>EVM Votes</th>\n",
       "      <th>Postal Votes</th>\n",
       "      <th>Total Votes</th>\n",
       "      <th>Latitude</th>\n",
       "      <th>Longitude</th>\n",
       "    </tr>\n",
       "  </thead>\n",
       "  <tbody>\n",
       "    <tr>\n",
       "      <th>1291</th>\n",
       "      <td>West Bengal</td>\n",
       "      <td>All India Arya Mahasabha</td>\n",
       "      <td>7324.0</td>\n",
       "      <td>21.0</td>\n",
       "      <td>7345.0</td>\n",
       "      <td>22.9868</td>\n",
       "      <td>87.855</td>\n",
       "    </tr>\n",
       "    <tr>\n",
       "      <th>1292</th>\n",
       "      <td>West Bengal</td>\n",
       "      <td>All India Forward Bloc</td>\n",
       "      <td>143946.0</td>\n",
       "      <td>893.0</td>\n",
       "      <td>144839.0</td>\n",
       "      <td>22.9868</td>\n",
       "      <td>87.855</td>\n",
       "    </tr>\n",
       "    <tr>\n",
       "      <th>1293</th>\n",
       "      <td>West Bengal</td>\n",
       "      <td>All India Secular Front</td>\n",
       "      <td>649657.0</td>\n",
       "      <td>572.0</td>\n",
       "      <td>650229.0</td>\n",
       "      <td>22.9868</td>\n",
       "      <td>87.855</td>\n",
       "    </tr>\n",
       "    <tr>\n",
       "      <th>1294</th>\n",
       "      <td>West Bengal</td>\n",
       "      <td>All India Trinamool Congress</td>\n",
       "      <td>27564561.0</td>\n",
       "      <td>109572.0</td>\n",
       "      <td>27674133.0</td>\n",
       "      <td>22.9868</td>\n",
       "      <td>87.855</td>\n",
       "    </tr>\n",
       "    <tr>\n",
       "      <th>1295</th>\n",
       "      <td>West Bengal</td>\n",
       "      <td>Ambedkarite Party of India</td>\n",
       "      <td>38340.0</td>\n",
       "      <td>133.0</td>\n",
       "      <td>38473.0</td>\n",
       "      <td>22.9868</td>\n",
       "      <td>87.855</td>\n",
       "    </tr>\n",
       "  </tbody>\n",
       "</table>\n",
       "</div>"
      ],
      "text/plain": [
       "            State                         Party   EVM Votes  Postal Votes  \\\n",
       "1291  West Bengal      All India Arya Mahasabha      7324.0          21.0   \n",
       "1292  West Bengal        All India Forward Bloc    143946.0         893.0   \n",
       "1293  West Bengal       All India Secular Front    649657.0         572.0   \n",
       "1294  West Bengal  All India Trinamool Congress  27564561.0      109572.0   \n",
       "1295  West Bengal    Ambedkarite Party of India     38340.0         133.0   \n",
       "\n",
       "      Total Votes  Latitude  Longitude  \n",
       "1291       7345.0   22.9868     87.855  \n",
       "1292     144839.0   22.9868     87.855  \n",
       "1293     650229.0   22.9868     87.855  \n",
       "1294   27674133.0   22.9868     87.855  \n",
       "1295      38473.0   22.9868     87.855  "
      ]
     },
     "execution_count": 49,
     "metadata": {},
     "output_type": "execute_result"
    }
   ],
   "source": [
    "filtered_merge_df.head()"
   ]
  },
  {
   "cell_type": "code",
   "execution_count": 53,
   "metadata": {},
   "outputs": [
    {
     "data": {
      "application/vnd.plotly.v1+json": {
       "config": {
        "plotlyServerURL": "https://plot.ly"
       },
       "data": [
        {
         "domain": {
          "x": [
           0,
           1
          ],
          "y": [
           0,
           1
          ]
         },
         "hovertemplate": "Party=%{label}<br>Total Votes=%{value}<extra></extra>",
         "labels": [
          "All India Trinamool Congress",
          "Bharatiya Janata Party",
          "Communist Party of India (Marxist)",
          "Indian National Congress",
          "Independent"
         ],
         "legendgroup": "",
         "name": "",
         "showlegend": true,
         "type": "pie",
         "values": [
          27674133,
          23431081,
          3432981,
          2827055,
          927695
         ]
        }
       ],
       "layout": {
        "legend": {
         "tracegroupgap": 0
        },
        "margin": {
         "t": 60
        },
        "template": {
         "data": {
          "bar": [
           {
            "error_x": {
             "color": "#2a3f5f"
            },
            "error_y": {
             "color": "#2a3f5f"
            },
            "marker": {
             "line": {
              "color": "#E5ECF6",
              "width": 0.5
             },
             "pattern": {
              "fillmode": "overlay",
              "size": 10,
              "solidity": 0.2
             }
            },
            "type": "bar"
           }
          ],
          "barpolar": [
           {
            "marker": {
             "line": {
              "color": "#E5ECF6",
              "width": 0.5
             },
             "pattern": {
              "fillmode": "overlay",
              "size": 10,
              "solidity": 0.2
             }
            },
            "type": "barpolar"
           }
          ],
          "carpet": [
           {
            "aaxis": {
             "endlinecolor": "#2a3f5f",
             "gridcolor": "white",
             "linecolor": "white",
             "minorgridcolor": "white",
             "startlinecolor": "#2a3f5f"
            },
            "baxis": {
             "endlinecolor": "#2a3f5f",
             "gridcolor": "white",
             "linecolor": "white",
             "minorgridcolor": "white",
             "startlinecolor": "#2a3f5f"
            },
            "type": "carpet"
           }
          ],
          "choropleth": [
           {
            "colorbar": {
             "outlinewidth": 0,
             "ticks": ""
            },
            "type": "choropleth"
           }
          ],
          "contour": [
           {
            "colorbar": {
             "outlinewidth": 0,
             "ticks": ""
            },
            "colorscale": [
             [
              0,
              "#0d0887"
             ],
             [
              0.1111111111111111,
              "#46039f"
             ],
             [
              0.2222222222222222,
              "#7201a8"
             ],
             [
              0.3333333333333333,
              "#9c179e"
             ],
             [
              0.4444444444444444,
              "#bd3786"
             ],
             [
              0.5555555555555556,
              "#d8576b"
             ],
             [
              0.6666666666666666,
              "#ed7953"
             ],
             [
              0.7777777777777778,
              "#fb9f3a"
             ],
             [
              0.8888888888888888,
              "#fdca26"
             ],
             [
              1,
              "#f0f921"
             ]
            ],
            "type": "contour"
           }
          ],
          "contourcarpet": [
           {
            "colorbar": {
             "outlinewidth": 0,
             "ticks": ""
            },
            "type": "contourcarpet"
           }
          ],
          "heatmap": [
           {
            "colorbar": {
             "outlinewidth": 0,
             "ticks": ""
            },
            "colorscale": [
             [
              0,
              "#0d0887"
             ],
             [
              0.1111111111111111,
              "#46039f"
             ],
             [
              0.2222222222222222,
              "#7201a8"
             ],
             [
              0.3333333333333333,
              "#9c179e"
             ],
             [
              0.4444444444444444,
              "#bd3786"
             ],
             [
              0.5555555555555556,
              "#d8576b"
             ],
             [
              0.6666666666666666,
              "#ed7953"
             ],
             [
              0.7777777777777778,
              "#fb9f3a"
             ],
             [
              0.8888888888888888,
              "#fdca26"
             ],
             [
              1,
              "#f0f921"
             ]
            ],
            "type": "heatmap"
           }
          ],
          "heatmapgl": [
           {
            "colorbar": {
             "outlinewidth": 0,
             "ticks": ""
            },
            "colorscale": [
             [
              0,
              "#0d0887"
             ],
             [
              0.1111111111111111,
              "#46039f"
             ],
             [
              0.2222222222222222,
              "#7201a8"
             ],
             [
              0.3333333333333333,
              "#9c179e"
             ],
             [
              0.4444444444444444,
              "#bd3786"
             ],
             [
              0.5555555555555556,
              "#d8576b"
             ],
             [
              0.6666666666666666,
              "#ed7953"
             ],
             [
              0.7777777777777778,
              "#fb9f3a"
             ],
             [
              0.8888888888888888,
              "#fdca26"
             ],
             [
              1,
              "#f0f921"
             ]
            ],
            "type": "heatmapgl"
           }
          ],
          "histogram": [
           {
            "marker": {
             "pattern": {
              "fillmode": "overlay",
              "size": 10,
              "solidity": 0.2
             }
            },
            "type": "histogram"
           }
          ],
          "histogram2d": [
           {
            "colorbar": {
             "outlinewidth": 0,
             "ticks": ""
            },
            "colorscale": [
             [
              0,
              "#0d0887"
             ],
             [
              0.1111111111111111,
              "#46039f"
             ],
             [
              0.2222222222222222,
              "#7201a8"
             ],
             [
              0.3333333333333333,
              "#9c179e"
             ],
             [
              0.4444444444444444,
              "#bd3786"
             ],
             [
              0.5555555555555556,
              "#d8576b"
             ],
             [
              0.6666666666666666,
              "#ed7953"
             ],
             [
              0.7777777777777778,
              "#fb9f3a"
             ],
             [
              0.8888888888888888,
              "#fdca26"
             ],
             [
              1,
              "#f0f921"
             ]
            ],
            "type": "histogram2d"
           }
          ],
          "histogram2dcontour": [
           {
            "colorbar": {
             "outlinewidth": 0,
             "ticks": ""
            },
            "colorscale": [
             [
              0,
              "#0d0887"
             ],
             [
              0.1111111111111111,
              "#46039f"
             ],
             [
              0.2222222222222222,
              "#7201a8"
             ],
             [
              0.3333333333333333,
              "#9c179e"
             ],
             [
              0.4444444444444444,
              "#bd3786"
             ],
             [
              0.5555555555555556,
              "#d8576b"
             ],
             [
              0.6666666666666666,
              "#ed7953"
             ],
             [
              0.7777777777777778,
              "#fb9f3a"
             ],
             [
              0.8888888888888888,
              "#fdca26"
             ],
             [
              1,
              "#f0f921"
             ]
            ],
            "type": "histogram2dcontour"
           }
          ],
          "mesh3d": [
           {
            "colorbar": {
             "outlinewidth": 0,
             "ticks": ""
            },
            "type": "mesh3d"
           }
          ],
          "parcoords": [
           {
            "line": {
             "colorbar": {
              "outlinewidth": 0,
              "ticks": ""
             }
            },
            "type": "parcoords"
           }
          ],
          "pie": [
           {
            "automargin": true,
            "type": "pie"
           }
          ],
          "scatter": [
           {
            "fillpattern": {
             "fillmode": "overlay",
             "size": 10,
             "solidity": 0.2
            },
            "type": "scatter"
           }
          ],
          "scatter3d": [
           {
            "line": {
             "colorbar": {
              "outlinewidth": 0,
              "ticks": ""
             }
            },
            "marker": {
             "colorbar": {
              "outlinewidth": 0,
              "ticks": ""
             }
            },
            "type": "scatter3d"
           }
          ],
          "scattercarpet": [
           {
            "marker": {
             "colorbar": {
              "outlinewidth": 0,
              "ticks": ""
             }
            },
            "type": "scattercarpet"
           }
          ],
          "scattergeo": [
           {
            "marker": {
             "colorbar": {
              "outlinewidth": 0,
              "ticks": ""
             }
            },
            "type": "scattergeo"
           }
          ],
          "scattergl": [
           {
            "marker": {
             "colorbar": {
              "outlinewidth": 0,
              "ticks": ""
             }
            },
            "type": "scattergl"
           }
          ],
          "scattermapbox": [
           {
            "marker": {
             "colorbar": {
              "outlinewidth": 0,
              "ticks": ""
             }
            },
            "type": "scattermapbox"
           }
          ],
          "scatterpolar": [
           {
            "marker": {
             "colorbar": {
              "outlinewidth": 0,
              "ticks": ""
             }
            },
            "type": "scatterpolar"
           }
          ],
          "scatterpolargl": [
           {
            "marker": {
             "colorbar": {
              "outlinewidth": 0,
              "ticks": ""
             }
            },
            "type": "scatterpolargl"
           }
          ],
          "scatterternary": [
           {
            "marker": {
             "colorbar": {
              "outlinewidth": 0,
              "ticks": ""
             }
            },
            "type": "scatterternary"
           }
          ],
          "surface": [
           {
            "colorbar": {
             "outlinewidth": 0,
             "ticks": ""
            },
            "colorscale": [
             [
              0,
              "#0d0887"
             ],
             [
              0.1111111111111111,
              "#46039f"
             ],
             [
              0.2222222222222222,
              "#7201a8"
             ],
             [
              0.3333333333333333,
              "#9c179e"
             ],
             [
              0.4444444444444444,
              "#bd3786"
             ],
             [
              0.5555555555555556,
              "#d8576b"
             ],
             [
              0.6666666666666666,
              "#ed7953"
             ],
             [
              0.7777777777777778,
              "#fb9f3a"
             ],
             [
              0.8888888888888888,
              "#fdca26"
             ],
             [
              1,
              "#f0f921"
             ]
            ],
            "type": "surface"
           }
          ],
          "table": [
           {
            "cells": {
             "fill": {
              "color": "#EBF0F8"
             },
             "line": {
              "color": "white"
             }
            },
            "header": {
             "fill": {
              "color": "#C8D4E3"
             },
             "line": {
              "color": "white"
             }
            },
            "type": "table"
           }
          ]
         },
         "layout": {
          "annotationdefaults": {
           "arrowcolor": "#2a3f5f",
           "arrowhead": 0,
           "arrowwidth": 1
          },
          "autotypenumbers": "strict",
          "coloraxis": {
           "colorbar": {
            "outlinewidth": 0,
            "ticks": ""
           }
          },
          "colorscale": {
           "diverging": [
            [
             0,
             "#8e0152"
            ],
            [
             0.1,
             "#c51b7d"
            ],
            [
             0.2,
             "#de77ae"
            ],
            [
             0.3,
             "#f1b6da"
            ],
            [
             0.4,
             "#fde0ef"
            ],
            [
             0.5,
             "#f7f7f7"
            ],
            [
             0.6,
             "#e6f5d0"
            ],
            [
             0.7,
             "#b8e186"
            ],
            [
             0.8,
             "#7fbc41"
            ],
            [
             0.9,
             "#4d9221"
            ],
            [
             1,
             "#276419"
            ]
           ],
           "sequential": [
            [
             0,
             "#0d0887"
            ],
            [
             0.1111111111111111,
             "#46039f"
            ],
            [
             0.2222222222222222,
             "#7201a8"
            ],
            [
             0.3333333333333333,
             "#9c179e"
            ],
            [
             0.4444444444444444,
             "#bd3786"
            ],
            [
             0.5555555555555556,
             "#d8576b"
            ],
            [
             0.6666666666666666,
             "#ed7953"
            ],
            [
             0.7777777777777778,
             "#fb9f3a"
            ],
            [
             0.8888888888888888,
             "#fdca26"
            ],
            [
             1,
             "#f0f921"
            ]
           ],
           "sequentialminus": [
            [
             0,
             "#0d0887"
            ],
            [
             0.1111111111111111,
             "#46039f"
            ],
            [
             0.2222222222222222,
             "#7201a8"
            ],
            [
             0.3333333333333333,
             "#9c179e"
            ],
            [
             0.4444444444444444,
             "#bd3786"
            ],
            [
             0.5555555555555556,
             "#d8576b"
            ],
            [
             0.6666666666666666,
             "#ed7953"
            ],
            [
             0.7777777777777778,
             "#fb9f3a"
            ],
            [
             0.8888888888888888,
             "#fdca26"
            ],
            [
             1,
             "#f0f921"
            ]
           ]
          },
          "colorway": [
           "#636efa",
           "#EF553B",
           "#00cc96",
           "#ab63fa",
           "#FFA15A",
           "#19d3f3",
           "#FF6692",
           "#B6E880",
           "#FF97FF",
           "#FECB52"
          ],
          "font": {
           "color": "#2a3f5f"
          },
          "geo": {
           "bgcolor": "white",
           "lakecolor": "white",
           "landcolor": "#E5ECF6",
           "showlakes": true,
           "showland": true,
           "subunitcolor": "white"
          },
          "hoverlabel": {
           "align": "left"
          },
          "hovermode": "closest",
          "mapbox": {
           "style": "light"
          },
          "paper_bgcolor": "white",
          "plot_bgcolor": "#E5ECF6",
          "polar": {
           "angularaxis": {
            "gridcolor": "white",
            "linecolor": "white",
            "ticks": ""
           },
           "bgcolor": "#E5ECF6",
           "radialaxis": {
            "gridcolor": "white",
            "linecolor": "white",
            "ticks": ""
           }
          },
          "scene": {
           "xaxis": {
            "backgroundcolor": "#E5ECF6",
            "gridcolor": "white",
            "gridwidth": 2,
            "linecolor": "white",
            "showbackground": true,
            "ticks": "",
            "zerolinecolor": "white"
           },
           "yaxis": {
            "backgroundcolor": "#E5ECF6",
            "gridcolor": "white",
            "gridwidth": 2,
            "linecolor": "white",
            "showbackground": true,
            "ticks": "",
            "zerolinecolor": "white"
           },
           "zaxis": {
            "backgroundcolor": "#E5ECF6",
            "gridcolor": "white",
            "gridwidth": 2,
            "linecolor": "white",
            "showbackground": true,
            "ticks": "",
            "zerolinecolor": "white"
           }
          },
          "shapedefaults": {
           "line": {
            "color": "#2a3f5f"
           }
          },
          "ternary": {
           "aaxis": {
            "gridcolor": "white",
            "linecolor": "white",
            "ticks": ""
           },
           "baxis": {
            "gridcolor": "white",
            "linecolor": "white",
            "ticks": ""
           },
           "bgcolor": "#E5ECF6",
           "caxis": {
            "gridcolor": "white",
            "linecolor": "white",
            "ticks": ""
           }
          },
          "title": {
           "x": 0.05
          },
          "xaxis": {
           "automargin": true,
           "gridcolor": "white",
           "linecolor": "white",
           "ticks": "",
           "title": {
            "standoff": 15
           },
           "zerolinecolor": "white",
           "zerolinewidth": 2
          },
          "yaxis": {
           "automargin": true,
           "gridcolor": "white",
           "linecolor": "white",
           "ticks": "",
           "title": {
            "standoff": 15
           },
           "zerolinecolor": "white",
           "zerolinewidth": 2
          }
         }
        }
       }
      }
     },
     "metadata": {},
     "output_type": "display_data"
    }
   ],
   "source": [
    "import plotly.express as px\n",
    "\n",
    "fig = px.pie(top_5, values='Total Votes', names='Party', title='')\n",
    "fig.show()"
   ]
  },
  {
   "cell_type": "code",
   "execution_count": null,
   "metadata": {},
   "outputs": [],
   "source": []
  },
  {
   "cell_type": "code",
   "execution_count": 59,
   "metadata": {},
   "outputs": [
    {
     "data": {
      "application/vnd.plotly.v1+json": {
       "config": {
        "plotlyServerURL": "https://plot.ly"
       },
       "data": [
        {
         "hovertemplate": "Total Votes=%{marker.size}<br>Latitude=%{lat}<br>Longitude=%{lon}<extra></extra>",
         "lat": [
          11.7401,
          11.7401,
          11.7401,
          11.7401,
          11.7401,
          11.7401,
          11.7401,
          11.7401,
          11.7401,
          15.9129,
          15.9129,
          15.9129,
          15.9129,
          15.9129,
          15.9129,
          15.9129,
          15.9129,
          15.9129,
          15.9129,
          15.9129,
          15.9129,
          15.9129,
          15.9129,
          15.9129,
          15.9129,
          15.9129,
          15.9129,
          15.9129,
          15.9129,
          15.9129,
          15.9129,
          15.9129,
          15.9129,
          15.9129,
          15.9129,
          15.9129,
          15.9129,
          15.9129,
          15.9129,
          15.9129,
          15.9129,
          15.9129,
          15.9129,
          15.9129,
          15.9129,
          15.9129,
          15.9129,
          15.9129,
          15.9129,
          15.9129,
          15.9129,
          15.9129,
          15.9129,
          15.9129,
          15.9129,
          15.9129,
          15.9129,
          15.9129,
          15.9129,
          15.9129,
          15.9129,
          15.9129,
          15.9129,
          15.9129,
          15.9129,
          15.9129,
          15.9129,
          15.9129,
          15.9129,
          15.9129,
          15.9129,
          15.9129,
          15.9129,
          15.9129,
          15.9129,
          15.9129,
          15.9129,
          28.218,
          28.218,
          28.218,
          28.218,
          28.218,
          28.218,
          31.1048,
          31.1048,
          31.1048,
          31.1048,
          31.1048,
          31.1048,
          31.1048,
          31.1048,
          31.1048,
          31.1048,
          31.1048,
          31.1048,
          31.1048,
          31.1048,
          31.1048,
          31.1048,
          31.1048,
          31.1048,
          31.1048,
          31.1048,
          31.1048,
          31.1048,
          31.1048,
          31.1048,
          31.1048,
          31.1048,
          31.1048,
          31.1048,
          25.0961,
          25.0961,
          25.0961,
          25.0961,
          25.0961,
          25.0961,
          25.0961,
          25.0961,
          25.0961,
          25.0961,
          25.0961,
          25.0961,
          25.0961,
          25.0961,
          25.0961,
          25.0961,
          25.0961,
          25.0961,
          25.0961,
          25.0961,
          25.0961,
          25.0961,
          25.0961,
          25.0961,
          25.0961,
          25.0961,
          25.0961,
          25.0961,
          25.0961,
          25.0961,
          25.0961,
          25.0961,
          25.0961,
          25.0961,
          25.0961,
          25.0961,
          25.0961,
          25.0961,
          25.0961,
          25.0961,
          25.0961,
          25.0961,
          25.0961,
          25.0961,
          25.0961,
          25.0961,
          25.0961,
          25.0961,
          25.0961,
          25.0961,
          25.0961,
          25.0961,
          25.0961,
          25.0961,
          25.0961,
          25.0961,
          25.0961,
          25.0961,
          25.0961,
          25.0961,
          25.0961,
          25.0961,
          25.0961,
          25.0961,
          25.0961,
          25.0961,
          25.0961,
          25.0961,
          25.0961,
          25.0961,
          25.0961,
          25.0961,
          25.0961,
          25.0961,
          25.0961,
          25.0961,
          25.0961,
          25.0961,
          25.0961,
          25.0961,
          25.0961,
          25.0961,
          25.0961,
          25.0961,
          25.0961,
          25.0961,
          25.0961,
          25.0961,
          25.0961,
          25.0961,
          25.0961,
          25.0961,
          25.0961,
          25.0961,
          25.0961,
          25.0961,
          25.0961,
          25.0961,
          30.7333,
          30.7333,
          30.7333,
          30.7333,
          30.7333,
          30.7333,
          30.7333,
          30.7333,
          30.7333,
          21.2787,
          21.2787,
          21.2787,
          21.2787,
          21.2787,
          21.2787,
          21.2787,
          21.2787,
          21.2787,
          21.2787,
          21.2787,
          21.2787,
          21.2787,
          21.2787,
          21.2787,
          21.2787,
          21.2787,
          21.2787,
          21.2787,
          21.2787,
          21.2787,
          21.2787,
          21.2787,
          21.2787,
          21.2787,
          21.2787,
          21.2787,
          21.2787,
          21.2787,
          21.2787,
          21.2787,
          21.2787,
          21.2787,
          21.2787,
          20.1809,
          20.1809,
          20.1809,
          20.1809,
          20.1809,
          20.1809,
          20.1809,
          15.2993,
          15.2993,
          15.2993,
          15.2993,
          15.2993,
          15.2993,
          15.2993,
          15.2993,
          22.2587,
          22.2587,
          22.2587,
          22.2587,
          22.2587,
          22.2587,
          22.2587,
          22.2587,
          22.2587,
          22.2587,
          22.2587,
          22.2587,
          22.2587,
          22.2587,
          22.2587,
          22.2587,
          22.2587,
          22.2587,
          22.2587,
          22.2587,
          22.2587,
          22.2587,
          22.2587,
          22.2587,
          22.2587,
          22.2587,
          22.2587,
          22.2587,
          22.2587,
          22.2587,
          22.2587,
          22.2587,
          22.2587,
          22.2587,
          22.2587,
          22.2587,
          22.2587,
          22.2587,
          22.2587,
          22.2587,
          22.2587,
          22.2587,
          22.2587,
          22.2587,
          22.2587,
          22.2587,
          22.2587,
          22.2587,
          22.2587,
          29.0588,
          29.0588,
          29.0588,
          29.0588,
          29.0588,
          29.0588,
          29.0588,
          29.0588,
          29.0588,
          29.0588,
          29.0588,
          29.0588,
          29.0588,
          29.0588,
          29.0588,
          29.0588,
          29.0588,
          29.0588,
          29.0588,
          29.0588,
          29.0588,
          29.0588,
          29.0588,
          29.0588,
          29.0588,
          29.0588,
          29.0588,
          29.0588,
          29.0588,
          29.0588,
          29.0588,
          29.0588,
          29.0588,
          29.0588,
          29.0588,
          29.0588,
          29.0588,
          29.0588,
          29.0588,
          29.0588,
          29.0588,
          29.0588,
          29.0588,
          29.0588,
          29.0588,
          29.0588,
          29.0588,
          31.1048,
          31.1048,
          31.1048,
          31.1048,
          31.1048,
          31.1048,
          31.1048,
          31.1048,
          31.1048,
          31.1048,
          31.1048,
          33.7782,
          33.7782,
          33.7782,
          33.7782,
          33.7782,
          33.7782,
          33.7782,
          33.7782,
          33.7782,
          33.7782,
          33.7782,
          33.7782,
          33.7782,
          33.7782,
          33.7782,
          33.7782,
          33.7782,
          33.7782,
          33.7782,
          33.7782,
          33.7782,
          33.7782,
          23.6102,
          23.6102,
          23.6102,
          23.6102,
          23.6102,
          23.6102,
          23.6102,
          23.6102,
          23.6102,
          23.6102,
          23.6102,
          23.6102,
          23.6102,
          23.6102,
          23.6102,
          23.6102,
          23.6102,
          23.6102,
          23.6102,
          23.6102,
          23.6102,
          23.6102,
          23.6102,
          23.6102,
          23.6102,
          23.6102,
          23.6102,
          23.6102,
          23.6102,
          23.6102,
          23.6102,
          23.6102,
          23.6102,
          23.6102,
          23.6102,
          23.6102,
          23.6102,
          23.6102,
          23.6102,
          23.6102,
          23.6102,
          23.6102,
          23.6102,
          23.6102,
          23.6102,
          23.6102,
          23.6102,
          23.6102,
          23.6102,
          23.6102,
          15.3173,
          15.3173,
          15.3173,
          15.3173,
          15.3173,
          15.3173,
          15.3173,
          15.3173,
          15.3173,
          15.3173,
          15.3173,
          15.3173,
          15.3173,
          15.3173,
          15.3173,
          15.3173,
          15.3173,
          15.3173,
          15.3173,
          15.3173,
          15.3173,
          15.3173,
          15.3173,
          15.3173,
          15.3173,
          15.3173,
          15.3173,
          15.3173,
          15.3173,
          15.3173,
          15.3173,
          15.3173,
          15.3173,
          15.3173,
          15.3173,
          15.3173,
          15.3173,
          15.3173,
          15.3173,
          15.3173,
          15.3173,
          15.3173,
          15.3173,
          15.3173,
          15.3173,
          15.3173,
          15.3173,
          15.3173,
          15.3173,
          15.3173,
          15.3173,
          15.3173,
          15.3173,
          15.3173,
          15.3173,
          15.3173,
          15.3173,
          15.3173,
          15.3173,
          10.8505,
          10.8505,
          10.8505,
          10.8505,
          10.8505,
          10.8505,
          10.8505,
          10.8505,
          10.8505,
          10.8505,
          10.8505,
          10.8505,
          10.8505,
          10.8505,
          10.8505,
          10.8505,
          10.8505,
          10.8505,
          10.8505,
          10.8505,
          10.8505,
          10.8505,
          34.2996,
          34.2996,
          34.2996,
          34.2996,
          10,
          10,
          10,
          10,
          10,
          22.9734,
          22.9734,
          22.9734,
          22.9734,
          22.9734,
          22.9734,
          22.9734,
          22.9734,
          22.9734,
          22.9734,
          22.9734,
          22.9734,
          22.9734,
          22.9734,
          22.9734,
          22.9734,
          22.9734,
          22.9734,
          22.9734,
          22.9734,
          22.9734,
          22.9734,
          22.9734,
          22.9734,
          22.9734,
          22.9734,
          22.9734,
          22.9734,
          22.9734,
          22.9734,
          22.9734,
          22.9734,
          22.9734,
          22.9734,
          22.9734,
          22.9734,
          22.9734,
          22.9734,
          22.9734,
          22.9734,
          22.9734,
          22.9734,
          22.9734,
          22.9734,
          22.9734,
          22.9734,
          22.9734,
          22.9734,
          22.9734,
          22.9734,
          22.9734,
          22.9734,
          22.9734,
          22.9734,
          22.9734,
          22.9734,
          22.9734,
          22.9734,
          22.9734,
          22.9734,
          22.9734,
          22.9734,
          22.9734,
          22.9734,
          22.9734,
          22.9734,
          22.9734,
          22.9734,
          22.9734,
          22.9734,
          19.7515,
          19.7515,
          19.7515,
          19.7515,
          19.7515,
          19.7515,
          19.7515,
          19.7515,
          19.7515,
          19.7515,
          19.7515,
          19.7515,
          19.7515,
          19.7515,
          19.7515,
          19.7515,
          19.7515,
          19.7515,
          19.7515,
          19.7515,
          19.7515,
          19.7515,
          19.7515,
          19.7515,
          19.7515,
          19.7515,
          19.7515,
          19.7515,
          19.7515,
          19.7515,
          19.7515,
          19.7515,
          19.7515,
          19.7515,
          19.7515,
          19.7515,
          19.7515,
          19.7515,
          19.7515,
          19.7515,
          19.7515,
          19.7515,
          19.7515,
          19.7515,
          19.7515,
          19.7515,
          19.7515,
          19.7515,
          19.7515,
          19.7515,
          19.7515,
          19.7515,
          19.7515,
          19.7515,
          19.7515,
          19.7515,
          19.7515,
          19.7515,
          19.7515,
          19.7515,
          19.7515,
          19.7515,
          19.7515,
          19.7515,
          19.7515,
          19.7515,
          19.7515,
          19.7515,
          19.7515,
          19.7515,
          19.7515,
          19.7515,
          19.7515,
          19.7515,
          19.7515,
          19.7515,
          19.7515,
          19.7515,
          19.7515,
          19.7515,
          19.7515,
          19.7515,
          19.7515,
          19.7515,
          19.7515,
          19.7515,
          19.7515,
          19.7515,
          19.7515,
          19.7515,
          19.7515,
          19.7515,
          19.7515,
          19.7515,
          19.7515,
          19.7515,
          19.7515,
          19.7515,
          19.7515,
          19.7515,
          19.7515,
          19.7515,
          19.7515,
          19.7515,
          19.7515,
          19.7515,
          19.7515,
          19.7515,
          19.7515,
          19.7515,
          19.7515,
          19.7515,
          19.7515,
          19.7515,
          19.7515,
          19.7515,
          19.7515,
          19.7515,
          19.7515,
          19.7515,
          19.7515,
          19.7515,
          19.7515,
          24.6637,
          24.6637,
          24.6637,
          24.6637,
          24.6637,
          24.6637,
          25.467,
          25.467,
          25.467,
          25.467,
          25.467,
          25.467,
          25.467,
          23.1645,
          23.1645,
          23.1645,
          23.1645,
          23.1645,
          23.1645,
          23.1645,
          28.7041,
          28.7041,
          28.7041,
          28.7041,
          28.7041,
          28.7041,
          28.7041,
          28.7041,
          28.7041,
          28.7041,
          28.7041,
          28.7041,
          28.7041,
          28.7041,
          28.7041,
          28.7041,
          28.7041,
          28.7041,
          28.7041,
          28.7041,
          28.7041,
          28.7041,
          28.7041,
          28.7041,
          28.7041,
          28.7041,
          28.7041,
          28.7041,
          28.7041,
          28.7041,
          28.7041,
          28.7041,
          28.7041,
          28.7041,
          28.7041,
          28.7041,
          28.7041,
          28.7041,
          28.7041,
          28.7041,
          28.7041,
          28.7041,
          28.7041,
          28.7041,
          28.7041,
          28.7041,
          28.7041,
          28.7041,
          28.7041,
          28.7041,
          28.7041,
          28.7041,
          28.7041,
          28.7041,
          28.7041,
          28.7041,
          28.7041,
          28.7041,
          28.7041,
          28.7041,
          28.7041,
          28.7041,
          26.1584,
          26.1584,
          26.1584,
          26.1584,
          20.9517,
          20.9517,
          20.9517,
          20.9517,
          20.9517,
          20.9517,
          20.9517,
          20.9517,
          20.9517,
          20.9517,
          20.9517,
          20.9517,
          20.9517,
          20.9517,
          20.9517,
          20.9517,
          20.9517,
          20.9517,
          20.9517,
          20.9517,
          20.9517,
          20.9517,
          20.9517,
          20.9517,
          20.9517,
          20.9517,
          20.9517,
          20.9517,
          20.9517,
          20.9517,
          20.9517,
          20.9517,
          20.9517,
          20.9517,
          20.9517,
          20.9517,
          20.9517,
          20.9517,
          11.9416,
          11.9416,
          11.9416,
          11.9416,
          11.9416,
          11.9416,
          11.9416,
          11.9416,
          11.9416,
          31.1471,
          31.1471,
          31.1471,
          31.1471,
          31.1471,
          31.1471,
          31.1471,
          31.1471,
          31.1471,
          31.1471,
          31.1471,
          31.1471,
          31.1471,
          31.1471,
          31.1471,
          31.1471,
          31.1471,
          31.1471,
          31.1471,
          31.1471,
          31.1471,
          31.1471,
          31.1471,
          31.1471,
          31.1471,
          31.1471,
          31.1471,
          31.1471,
          31.1471,
          31.1471,
          31.1471,
          31.1471,
          31.1471,
          31.1471,
          31.1471,
          31.1471,
          31.1471,
          31.1471,
          31.1471,
          31.1471,
          31.1471,
          31.1471,
          31.1471,
          31.1471,
          31.1471,
          31.1471,
          31.1471,
          31.1471,
          31.1471,
          31.1471,
          27.0238,
          27.0238,
          27.0238,
          27.0238,
          27.0238,
          27.0238,
          27.0238,
          27.0238,
          27.0238,
          27.0238,
          27.0238,
          27.0238,
          27.0238,
          27.0238,
          27.0238,
          27.0238,
          27.0238,
          27.0238,
          27.0238,
          27.0238,
          27.0238,
          27.0238,
          27.0238,
          27.0238,
          27.0238,
          27.0238,
          27.0238,
          27.0238,
          27.0238,
          27.0238,
          27.0238,
          27.0238,
          27.0238,
          27.0238,
          27.0238,
          27.0238,
          27.0238,
          27.0238,
          27.0238,
          27.0238,
          27.0238,
          27.0238,
          27.0238,
          27.533,
          27.533,
          27.533,
          27.533,
          27.533,
          27.533,
          27.533,
          27.533,
          11.1271,
          11.1271,
          11.1271,
          11.1271,
          11.1271,
          11.1271,
          11.1271,
          11.1271,
          11.1271,
          11.1271,
          11.1271,
          11.1271,
          11.1271,
          11.1271,
          11.1271,
          11.1271,
          11.1271,
          11.1271,
          11.1271,
          11.1271,
          11.1271,
          11.1271,
          11.1271,
          11.1271,
          11.1271,
          11.1271,
          11.1271,
          11.1271,
          11.1271,
          11.1271,
          11.1271,
          11.1271,
          11.1271,
          11.1271,
          11.1271,
          11.1271,
          11.1271,
          11.1271,
          11.1271,
          11.1271,
          11.1271,
          11.1271,
          11.1271,
          11.1271,
          11.1271,
          11.1271,
          11.1271,
          11.1271,
          11.1271,
          11.1271,
          11.1271,
          11.1271,
          11.1271,
          11.1271,
          11.1271,
          11.1271,
          11.1271,
          11.1271,
          11.1271,
          11.1271,
          11.1271,
          11.1271,
          11.1271,
          11.1271,
          11.1271,
          11.1271,
          11.1271,
          11.1271,
          11.1271,
          18.1124,
          18.1124,
          18.1124,
          18.1124,
          18.1124,
          18.1124,
          18.1124,
          18.1124,
          18.1124,
          18.1124,
          18.1124,
          18.1124,
          18.1124,
          18.1124,
          18.1124,
          18.1124,
          18.1124,
          18.1124,
          18.1124,
          18.1124,
          18.1124,
          18.1124,
          18.1124,
          18.1124,
          18.1124,
          18.1124,
          18.1124,
          18.1124,
          18.1124,
          18.1124,
          18.1124,
          18.1124,
          18.1124,
          18.1124,
          18.1124,
          18.1124,
          18.1124,
          18.1124,
          18.1124,
          18.1124,
          18.1124,
          18.1124,
          18.1124,
          18.1124,
          18.1124,
          18.1124,
          18.1124,
          18.1124,
          18.1124,
          18.1124,
          18.1124,
          18.1124,
          18.1124,
          18.1124,
          18.1124,
          18.1124,
          18.1124,
          18.1124,
          18.1124,
          18.1124,
          18.1124,
          18.1124,
          18.1124,
          18.1124,
          18.1124,
          18.1124,
          18.1124,
          18.1124,
          18.1124,
          23.9408,
          23.9408,
          23.9408,
          23.9408,
          23.9408,
          23.9408,
          23.9408,
          26.8467,
          26.8467,
          26.8467,
          26.8467,
          26.8467,
          26.8467,
          26.8467,
          26.8467,
          26.8467,
          26.8467,
          26.8467,
          26.8467,
          26.8467,
          26.8467,
          26.8467,
          26.8467,
          26.8467,
          26.8467,
          26.8467,
          26.8467,
          26.8467,
          26.8467,
          26.8467,
          26.8467,
          26.8467,
          26.8467,
          26.8467,
          26.8467,
          26.8467,
          26.8467,
          26.8467,
          26.8467,
          26.8467,
          26.8467,
          26.8467,
          26.8467,
          26.8467,
          26.8467,
          26.8467,
          26.8467,
          26.8467,
          26.8467,
          26.8467,
          26.8467,
          26.8467,
          26.8467,
          26.8467,
          26.8467,
          26.8467,
          26.8467,
          26.8467,
          26.8467,
          26.8467,
          26.8467,
          26.8467,
          26.8467,
          26.8467,
          26.8467,
          26.8467,
          26.8467,
          26.8467,
          26.8467,
          26.8467,
          26.8467,
          26.8467,
          26.8467,
          26.8467,
          26.8467,
          26.8467,
          26.8467,
          26.8467,
          26.8467,
          26.8467,
          26.8467,
          26.8467,
          26.8467,
          26.8467,
          26.8467,
          26.8467,
          26.8467,
          26.8467,
          26.8467,
          26.8467,
          26.8467,
          26.8467,
          26.8467,
          26.8467,
          26.8467,
          26.8467,
          26.8467,
          26.8467,
          26.8467,
          26.8467,
          26.8467,
          26.8467,
          26.8467,
          26.8467,
          26.8467,
          26.8467,
          26.8467,
          26.8467,
          26.8467,
          26.8467,
          26.8467,
          26.8467,
          26.8467,
          26.8467,
          26.8467,
          26.8467,
          26.8467,
          26.8467,
          26.8467,
          26.8467,
          26.8467,
          26.8467,
          26.8467,
          26.8467,
          26.8467,
          26.8467,
          26.8467,
          26.8467,
          26.8467,
          26.8467,
          26.8467,
          26.8467,
          26.8467,
          26.8467,
          26.8467,
          26.8467,
          26.8467,
          26.8467,
          26.8467,
          26.8467,
          26.8467,
          26.8467,
          26.8467,
          26.8467,
          26.8467,
          26.8467,
          26.8467,
          26.8467,
          26.8467,
          26.8467,
          26.8467,
          26.8467,
          26.8467,
          26.8467,
          26.8467,
          26.8467,
          26.8467,
          26.8467,
          26.8467,
          26.8467,
          26.8467,
          26.8467,
          26.8467,
          26.8467,
          26.8467,
          26.8467,
          26.8467,
          26.8467,
          26.8467,
          26.8467,
          26.8467,
          26.8467,
          26.8467,
          30.0668,
          30.0668,
          30.0668,
          30.0668,
          30.0668,
          30.0668,
          30.0668,
          30.0668,
          30.0668,
          30.0668,
          30.0668,
          30.0668,
          30.0668,
          30.0668,
          30.0668,
          30.0668,
          30.0668,
          22.9868,
          22.9868,
          22.9868,
          22.9868,
          22.9868,
          22.9868,
          22.9868,
          22.9868,
          22.9868,
          22.9868,
          22.9868,
          22.9868,
          22.9868,
          22.9868,
          22.9868,
          22.9868,
          22.9868,
          22.9868,
          22.9868,
          22.9868,
          22.9868,
          22.9868,
          22.9868,
          22.9868,
          22.9868,
          22.9868,
          22.9868,
          22.9868,
          22.9868,
          22.9868,
          22.9868,
          22.9868,
          22.9868,
          22.9868,
          22.9868,
          22.9868,
          22.9868,
          22.9868,
          22.9868,
          22.9868,
          22.9868,
          22.9868,
          22.9868,
          22.9868,
          22.9868
         ],
         "legendgroup": "",
         "lon": [
          92.6586,
          92.6586,
          92.6586,
          92.6586,
          92.6586,
          92.6586,
          92.6586,
          92.6586,
          92.6586,
          79.74,
          79.74,
          79.74,
          79.74,
          79.74,
          79.74,
          79.74,
          79.74,
          79.74,
          79.74,
          79.74,
          79.74,
          79.74,
          79.74,
          79.74,
          79.74,
          79.74,
          79.74,
          79.74,
          79.74,
          79.74,
          79.74,
          79.74,
          79.74,
          79.74,
          79.74,
          79.74,
          79.74,
          79.74,
          79.74,
          79.74,
          79.74,
          79.74,
          79.74,
          79.74,
          79.74,
          79.74,
          79.74,
          79.74,
          79.74,
          79.74,
          79.74,
          79.74,
          79.74,
          79.74,
          79.74,
          79.74,
          79.74,
          79.74,
          79.74,
          79.74,
          79.74,
          79.74,
          79.74,
          79.74,
          79.74,
          79.74,
          79.74,
          79.74,
          79.74,
          79.74,
          79.74,
          79.74,
          79.74,
          79.74,
          79.74,
          79.74,
          79.74,
          94.7278,
          94.7278,
          94.7278,
          94.7278,
          94.7278,
          94.7278,
          77.1734,
          77.1734,
          77.1734,
          77.1734,
          77.1734,
          77.1734,
          77.1734,
          77.1734,
          77.1734,
          77.1734,
          77.1734,
          77.1734,
          77.1734,
          77.1734,
          77.1734,
          77.1734,
          77.1734,
          77.1734,
          77.1734,
          77.1734,
          77.1734,
          77.1734,
          77.1734,
          77.1734,
          77.1734,
          77.1734,
          77.1734,
          77.1734,
          85.3131,
          85.3131,
          85.3131,
          85.3131,
          85.3131,
          85.3131,
          85.3131,
          85.3131,
          85.3131,
          85.3131,
          85.3131,
          85.3131,
          85.3131,
          85.3131,
          85.3131,
          85.3131,
          85.3131,
          85.3131,
          85.3131,
          85.3131,
          85.3131,
          85.3131,
          85.3131,
          85.3131,
          85.3131,
          85.3131,
          85.3131,
          85.3131,
          85.3131,
          85.3131,
          85.3131,
          85.3131,
          85.3131,
          85.3131,
          85.3131,
          85.3131,
          85.3131,
          85.3131,
          85.3131,
          85.3131,
          85.3131,
          85.3131,
          85.3131,
          85.3131,
          85.3131,
          85.3131,
          85.3131,
          85.3131,
          85.3131,
          85.3131,
          85.3131,
          85.3131,
          85.3131,
          85.3131,
          85.3131,
          85.3131,
          85.3131,
          85.3131,
          85.3131,
          85.3131,
          85.3131,
          85.3131,
          85.3131,
          85.3131,
          85.3131,
          85.3131,
          85.3131,
          85.3131,
          85.3131,
          85.3131,
          85.3131,
          85.3131,
          85.3131,
          85.3131,
          85.3131,
          85.3131,
          85.3131,
          85.3131,
          85.3131,
          85.3131,
          85.3131,
          85.3131,
          85.3131,
          85.3131,
          85.3131,
          85.3131,
          85.3131,
          85.3131,
          85.3131,
          85.3131,
          85.3131,
          85.3131,
          85.3131,
          85.3131,
          85.3131,
          85.3131,
          85.3131,
          85.3131,
          76.7794,
          76.7794,
          76.7794,
          76.7794,
          76.7794,
          76.7794,
          76.7794,
          76.7794,
          76.7794,
          81.8661,
          81.8661,
          81.8661,
          81.8661,
          81.8661,
          81.8661,
          81.8661,
          81.8661,
          81.8661,
          81.8661,
          81.8661,
          81.8661,
          81.8661,
          81.8661,
          81.8661,
          81.8661,
          81.8661,
          81.8661,
          81.8661,
          81.8661,
          81.8661,
          81.8661,
          81.8661,
          81.8661,
          81.8661,
          81.8661,
          81.8661,
          81.8661,
          81.8661,
          81.8661,
          81.8661,
          81.8661,
          81.8661,
          81.8661,
          73.0169,
          73.0169,
          73.0169,
          73.0169,
          73.0169,
          73.0169,
          73.0169,
          74.124,
          74.124,
          74.124,
          74.124,
          74.124,
          74.124,
          74.124,
          74.124,
          71.1924,
          71.1924,
          71.1924,
          71.1924,
          71.1924,
          71.1924,
          71.1924,
          71.1924,
          71.1924,
          71.1924,
          71.1924,
          71.1924,
          71.1924,
          71.1924,
          71.1924,
          71.1924,
          71.1924,
          71.1924,
          71.1924,
          71.1924,
          71.1924,
          71.1924,
          71.1924,
          71.1924,
          71.1924,
          71.1924,
          71.1924,
          71.1924,
          71.1924,
          71.1924,
          71.1924,
          71.1924,
          71.1924,
          71.1924,
          71.1924,
          71.1924,
          71.1924,
          71.1924,
          71.1924,
          71.1924,
          71.1924,
          71.1924,
          71.1924,
          71.1924,
          71.1924,
          71.1924,
          71.1924,
          71.1924,
          71.1924,
          76.0856,
          76.0856,
          76.0856,
          76.0856,
          76.0856,
          76.0856,
          76.0856,
          76.0856,
          76.0856,
          76.0856,
          76.0856,
          76.0856,
          76.0856,
          76.0856,
          76.0856,
          76.0856,
          76.0856,
          76.0856,
          76.0856,
          76.0856,
          76.0856,
          76.0856,
          76.0856,
          76.0856,
          76.0856,
          76.0856,
          76.0856,
          76.0856,
          76.0856,
          76.0856,
          76.0856,
          76.0856,
          76.0856,
          76.0856,
          76.0856,
          76.0856,
          76.0856,
          76.0856,
          76.0856,
          76.0856,
          76.0856,
          76.0856,
          76.0856,
          76.0856,
          76.0856,
          76.0856,
          76.0856,
          77.1734,
          77.1734,
          77.1734,
          77.1734,
          77.1734,
          77.1734,
          77.1734,
          77.1734,
          77.1734,
          77.1734,
          77.1734,
          76.5762,
          76.5762,
          76.5762,
          76.5762,
          76.5762,
          76.5762,
          76.5762,
          76.5762,
          76.5762,
          76.5762,
          76.5762,
          76.5762,
          76.5762,
          76.5762,
          76.5762,
          76.5762,
          76.5762,
          76.5762,
          76.5762,
          76.5762,
          76.5762,
          76.5762,
          85.2799,
          85.2799,
          85.2799,
          85.2799,
          85.2799,
          85.2799,
          85.2799,
          85.2799,
          85.2799,
          85.2799,
          85.2799,
          85.2799,
          85.2799,
          85.2799,
          85.2799,
          85.2799,
          85.2799,
          85.2799,
          85.2799,
          85.2799,
          85.2799,
          85.2799,
          85.2799,
          85.2799,
          85.2799,
          85.2799,
          85.2799,
          85.2799,
          85.2799,
          85.2799,
          85.2799,
          85.2799,
          85.2799,
          85.2799,
          85.2799,
          85.2799,
          85.2799,
          85.2799,
          85.2799,
          85.2799,
          85.2799,
          85.2799,
          85.2799,
          85.2799,
          85.2799,
          85.2799,
          85.2799,
          85.2799,
          85.2799,
          85.2799,
          75.7139,
          75.7139,
          75.7139,
          75.7139,
          75.7139,
          75.7139,
          75.7139,
          75.7139,
          75.7139,
          75.7139,
          75.7139,
          75.7139,
          75.7139,
          75.7139,
          75.7139,
          75.7139,
          75.7139,
          75.7139,
          75.7139,
          75.7139,
          75.7139,
          75.7139,
          75.7139,
          75.7139,
          75.7139,
          75.7139,
          75.7139,
          75.7139,
          75.7139,
          75.7139,
          75.7139,
          75.7139,
          75.7139,
          75.7139,
          75.7139,
          75.7139,
          75.7139,
          75.7139,
          75.7139,
          75.7139,
          75.7139,
          75.7139,
          75.7139,
          75.7139,
          75.7139,
          75.7139,
          75.7139,
          75.7139,
          75.7139,
          75.7139,
          75.7139,
          75.7139,
          75.7139,
          75.7139,
          75.7139,
          75.7139,
          75.7139,
          75.7139,
          75.7139,
          76.2711,
          76.2711,
          76.2711,
          76.2711,
          76.2711,
          76.2711,
          76.2711,
          76.2711,
          76.2711,
          76.2711,
          76.2711,
          76.2711,
          76.2711,
          76.2711,
          76.2711,
          76.2711,
          76.2711,
          76.2711,
          76.2711,
          76.2711,
          76.2711,
          76.2711,
          78.2932,
          78.2932,
          78.2932,
          78.2932,
          73,
          73,
          73,
          73,
          73,
          78.6569,
          78.6569,
          78.6569,
          78.6569,
          78.6569,
          78.6569,
          78.6569,
          78.6569,
          78.6569,
          78.6569,
          78.6569,
          78.6569,
          78.6569,
          78.6569,
          78.6569,
          78.6569,
          78.6569,
          78.6569,
          78.6569,
          78.6569,
          78.6569,
          78.6569,
          78.6569,
          78.6569,
          78.6569,
          78.6569,
          78.6569,
          78.6569,
          78.6569,
          78.6569,
          78.6569,
          78.6569,
          78.6569,
          78.6569,
          78.6569,
          78.6569,
          78.6569,
          78.6569,
          78.6569,
          78.6569,
          78.6569,
          78.6569,
          78.6569,
          78.6569,
          78.6569,
          78.6569,
          78.6569,
          78.6569,
          78.6569,
          78.6569,
          78.6569,
          78.6569,
          78.6569,
          78.6569,
          78.6569,
          78.6569,
          78.6569,
          78.6569,
          78.6569,
          78.6569,
          78.6569,
          78.6569,
          78.6569,
          78.6569,
          78.6569,
          78.6569,
          78.6569,
          78.6569,
          78.6569,
          78.6569,
          75.7139,
          75.7139,
          75.7139,
          75.7139,
          75.7139,
          75.7139,
          75.7139,
          75.7139,
          75.7139,
          75.7139,
          75.7139,
          75.7139,
          75.7139,
          75.7139,
          75.7139,
          75.7139,
          75.7139,
          75.7139,
          75.7139,
          75.7139,
          75.7139,
          75.7139,
          75.7139,
          75.7139,
          75.7139,
          75.7139,
          75.7139,
          75.7139,
          75.7139,
          75.7139,
          75.7139,
          75.7139,
          75.7139,
          75.7139,
          75.7139,
          75.7139,
          75.7139,
          75.7139,
          75.7139,
          75.7139,
          75.7139,
          75.7139,
          75.7139,
          75.7139,
          75.7139,
          75.7139,
          75.7139,
          75.7139,
          75.7139,
          75.7139,
          75.7139,
          75.7139,
          75.7139,
          75.7139,
          75.7139,
          75.7139,
          75.7139,
          75.7139,
          75.7139,
          75.7139,
          75.7139,
          75.7139,
          75.7139,
          75.7139,
          75.7139,
          75.7139,
          75.7139,
          75.7139,
          75.7139,
          75.7139,
          75.7139,
          75.7139,
          75.7139,
          75.7139,
          75.7139,
          75.7139,
          75.7139,
          75.7139,
          75.7139,
          75.7139,
          75.7139,
          75.7139,
          75.7139,
          75.7139,
          75.7139,
          75.7139,
          75.7139,
          75.7139,
          75.7139,
          75.7139,
          75.7139,
          75.7139,
          75.7139,
          75.7139,
          75.7139,
          75.7139,
          75.7139,
          75.7139,
          75.7139,
          75.7139,
          75.7139,
          75.7139,
          75.7139,
          75.7139,
          75.7139,
          75.7139,
          75.7139,
          75.7139,
          75.7139,
          75.7139,
          75.7139,
          75.7139,
          75.7139,
          75.7139,
          75.7139,
          75.7139,
          75.7139,
          75.7139,
          75.7139,
          75.7139,
          75.7139,
          75.7139,
          75.7139,
          93.9063,
          93.9063,
          93.9063,
          93.9063,
          93.9063,
          93.9063,
          91.3662,
          91.3662,
          91.3662,
          91.3662,
          91.3662,
          91.3662,
          91.3662,
          92.9376,
          92.9376,
          92.9376,
          92.9376,
          92.9376,
          92.9376,
          92.9376,
          77.1025,
          77.1025,
          77.1025,
          77.1025,
          77.1025,
          77.1025,
          77.1025,
          77.1025,
          77.1025,
          77.1025,
          77.1025,
          77.1025,
          77.1025,
          77.1025,
          77.1025,
          77.1025,
          77.1025,
          77.1025,
          77.1025,
          77.1025,
          77.1025,
          77.1025,
          77.1025,
          77.1025,
          77.1025,
          77.1025,
          77.1025,
          77.1025,
          77.1025,
          77.1025,
          77.1025,
          77.1025,
          77.1025,
          77.1025,
          77.1025,
          77.1025,
          77.1025,
          77.1025,
          77.1025,
          77.1025,
          77.1025,
          77.1025,
          77.1025,
          77.1025,
          77.1025,
          77.1025,
          77.1025,
          77.1025,
          77.1025,
          77.1025,
          77.1025,
          77.1025,
          77.1025,
          77.1025,
          77.1025,
          77.1025,
          77.1025,
          77.1025,
          77.1025,
          77.1025,
          77.1025,
          77.1025,
          94.5624,
          94.5624,
          94.5624,
          94.5624,
          85.0985,
          85.0985,
          85.0985,
          85.0985,
          85.0985,
          85.0985,
          85.0985,
          85.0985,
          85.0985,
          85.0985,
          85.0985,
          85.0985,
          85.0985,
          85.0985,
          85.0985,
          85.0985,
          85.0985,
          85.0985,
          85.0985,
          85.0985,
          85.0985,
          85.0985,
          85.0985,
          85.0985,
          85.0985,
          85.0985,
          85.0985,
          85.0985,
          85.0985,
          85.0985,
          85.0985,
          85.0985,
          85.0985,
          85.0985,
          85.0985,
          85.0985,
          85.0985,
          85.0985,
          79.8083,
          79.8083,
          79.8083,
          79.8083,
          79.8083,
          79.8083,
          79.8083,
          79.8083,
          79.8083,
          75.3412,
          75.3412,
          75.3412,
          75.3412,
          75.3412,
          75.3412,
          75.3412,
          75.3412,
          75.3412,
          75.3412,
          75.3412,
          75.3412,
          75.3412,
          75.3412,
          75.3412,
          75.3412,
          75.3412,
          75.3412,
          75.3412,
          75.3412,
          75.3412,
          75.3412,
          75.3412,
          75.3412,
          75.3412,
          75.3412,
          75.3412,
          75.3412,
          75.3412,
          75.3412,
          75.3412,
          75.3412,
          75.3412,
          75.3412,
          75.3412,
          75.3412,
          75.3412,
          75.3412,
          75.3412,
          75.3412,
          75.3412,
          75.3412,
          75.3412,
          75.3412,
          75.3412,
          75.3412,
          75.3412,
          75.3412,
          75.3412,
          75.3412,
          74.2179,
          74.2179,
          74.2179,
          74.2179,
          74.2179,
          74.2179,
          74.2179,
          74.2179,
          74.2179,
          74.2179,
          74.2179,
          74.2179,
          74.2179,
          74.2179,
          74.2179,
          74.2179,
          74.2179,
          74.2179,
          74.2179,
          74.2179,
          74.2179,
          74.2179,
          74.2179,
          74.2179,
          74.2179,
          74.2179,
          74.2179,
          74.2179,
          74.2179,
          74.2179,
          74.2179,
          74.2179,
          74.2179,
          74.2179,
          74.2179,
          74.2179,
          74.2179,
          74.2179,
          74.2179,
          74.2179,
          74.2179,
          74.2179,
          74.2179,
          88.5122,
          88.5122,
          88.5122,
          88.5122,
          88.5122,
          88.5122,
          88.5122,
          88.5122,
          78.6569,
          78.6569,
          78.6569,
          78.6569,
          78.6569,
          78.6569,
          78.6569,
          78.6569,
          78.6569,
          78.6569,
          78.6569,
          78.6569,
          78.6569,
          78.6569,
          78.6569,
          78.6569,
          78.6569,
          78.6569,
          78.6569,
          78.6569,
          78.6569,
          78.6569,
          78.6569,
          78.6569,
          78.6569,
          78.6569,
          78.6569,
          78.6569,
          78.6569,
          78.6569,
          78.6569,
          78.6569,
          78.6569,
          78.6569,
          78.6569,
          78.6569,
          78.6569,
          78.6569,
          78.6569,
          78.6569,
          78.6569,
          78.6569,
          78.6569,
          78.6569,
          78.6569,
          78.6569,
          78.6569,
          78.6569,
          78.6569,
          78.6569,
          78.6569,
          78.6569,
          78.6569,
          78.6569,
          78.6569,
          78.6569,
          78.6569,
          78.6569,
          78.6569,
          78.6569,
          78.6569,
          78.6569,
          78.6569,
          78.6569,
          78.6569,
          78.6569,
          78.6569,
          78.6569,
          78.6569,
          79.0193,
          79.0193,
          79.0193,
          79.0193,
          79.0193,
          79.0193,
          79.0193,
          79.0193,
          79.0193,
          79.0193,
          79.0193,
          79.0193,
          79.0193,
          79.0193,
          79.0193,
          79.0193,
          79.0193,
          79.0193,
          79.0193,
          79.0193,
          79.0193,
          79.0193,
          79.0193,
          79.0193,
          79.0193,
          79.0193,
          79.0193,
          79.0193,
          79.0193,
          79.0193,
          79.0193,
          79.0193,
          79.0193,
          79.0193,
          79.0193,
          79.0193,
          79.0193,
          79.0193,
          79.0193,
          79.0193,
          79.0193,
          79.0193,
          79.0193,
          79.0193,
          79.0193,
          79.0193,
          79.0193,
          79.0193,
          79.0193,
          79.0193,
          79.0193,
          79.0193,
          79.0193,
          79.0193,
          79.0193,
          79.0193,
          79.0193,
          79.0193,
          79.0193,
          79.0193,
          79.0193,
          79.0193,
          79.0193,
          79.0193,
          79.0193,
          79.0193,
          79.0193,
          79.0193,
          79.0193,
          91.9882,
          91.9882,
          91.9882,
          91.9882,
          91.9882,
          91.9882,
          91.9882,
          80.9462,
          80.9462,
          80.9462,
          80.9462,
          80.9462,
          80.9462,
          80.9462,
          80.9462,
          80.9462,
          80.9462,
          80.9462,
          80.9462,
          80.9462,
          80.9462,
          80.9462,
          80.9462,
          80.9462,
          80.9462,
          80.9462,
          80.9462,
          80.9462,
          80.9462,
          80.9462,
          80.9462,
          80.9462,
          80.9462,
          80.9462,
          80.9462,
          80.9462,
          80.9462,
          80.9462,
          80.9462,
          80.9462,
          80.9462,
          80.9462,
          80.9462,
          80.9462,
          80.9462,
          80.9462,
          80.9462,
          80.9462,
          80.9462,
          80.9462,
          80.9462,
          80.9462,
          80.9462,
          80.9462,
          80.9462,
          80.9462,
          80.9462,
          80.9462,
          80.9462,
          80.9462,
          80.9462,
          80.9462,
          80.9462,
          80.9462,
          80.9462,
          80.9462,
          80.9462,
          80.9462,
          80.9462,
          80.9462,
          80.9462,
          80.9462,
          80.9462,
          80.9462,
          80.9462,
          80.9462,
          80.9462,
          80.9462,
          80.9462,
          80.9462,
          80.9462,
          80.9462,
          80.9462,
          80.9462,
          80.9462,
          80.9462,
          80.9462,
          80.9462,
          80.9462,
          80.9462,
          80.9462,
          80.9462,
          80.9462,
          80.9462,
          80.9462,
          80.9462,
          80.9462,
          80.9462,
          80.9462,
          80.9462,
          80.9462,
          80.9462,
          80.9462,
          80.9462,
          80.9462,
          80.9462,
          80.9462,
          80.9462,
          80.9462,
          80.9462,
          80.9462,
          80.9462,
          80.9462,
          80.9462,
          80.9462,
          80.9462,
          80.9462,
          80.9462,
          80.9462,
          80.9462,
          80.9462,
          80.9462,
          80.9462,
          80.9462,
          80.9462,
          80.9462,
          80.9462,
          80.9462,
          80.9462,
          80.9462,
          80.9462,
          80.9462,
          80.9462,
          80.9462,
          80.9462,
          80.9462,
          80.9462,
          80.9462,
          80.9462,
          80.9462,
          80.9462,
          80.9462,
          80.9462,
          80.9462,
          80.9462,
          80.9462,
          80.9462,
          80.9462,
          80.9462,
          80.9462,
          80.9462,
          80.9462,
          80.9462,
          80.9462,
          80.9462,
          80.9462,
          80.9462,
          80.9462,
          80.9462,
          80.9462,
          80.9462,
          80.9462,
          80.9462,
          80.9462,
          80.9462,
          80.9462,
          80.9462,
          80.9462,
          80.9462,
          80.9462,
          80.9462,
          80.9462,
          80.9462,
          79.0193,
          79.0193,
          79.0193,
          79.0193,
          79.0193,
          79.0193,
          79.0193,
          79.0193,
          79.0193,
          79.0193,
          79.0193,
          79.0193,
          79.0193,
          79.0193,
          79.0193,
          79.0193,
          79.0193,
          87.855,
          87.855,
          87.855,
          87.855,
          87.855,
          87.855,
          87.855,
          87.855,
          87.855,
          87.855,
          87.855,
          87.855,
          87.855,
          87.855,
          87.855,
          87.855,
          87.855,
          87.855,
          87.855,
          87.855,
          87.855,
          87.855,
          87.855,
          87.855,
          87.855,
          87.855,
          87.855,
          87.855,
          87.855,
          87.855,
          87.855,
          87.855,
          87.855,
          87.855,
          87.855,
          87.855,
          87.855,
          87.855,
          87.855,
          87.855,
          87.855,
          87.855,
          87.855,
          87.855,
          87.855
         ],
         "marker": {
          "color": "#636efa",
          "size": [
           914,
           8254,
           719,
           102436,
           6017,
           3974,
           78040,
           1809,
           351,
           1568,
           13645,
           269,
           578,
           1495,
           688,
           358,
           6846,
           4937,
           226145,
           461,
           6766,
           17173,
           732,
           3808784,
           494,
           767,
           444,
           8637,
           123129,
           2823,
           4505,
           382480,
           6324,
           1239,
           310,
           912118,
           5568,
           20245,
           711,
           3337,
           13892,
           1644,
           1454138,
           5425,
           22935,
           8900,
           316,
           312,
           2001,
           2833,
           1038,
           54529,
           16864,
           414,
           430,
           402366,
           505,
           633,
           7696,
           15701,
           454,
           8536,
           2333,
           726,
           12006,
           368,
           6100,
           5702,
           9006,
           3353,
           12775270,
           3741,
           5906,
           1515,
           378,
           1761,
           13316039,
           6622,
           350998,
           30530,
           108067,
           219839,
           7191,
           170912,
           74641,
           625954,
           1298707,
           9895,
           414441,
           9633,
           10916,
           2410,
           12563,
           27554,
           7509104,
           777570,
           19631,
           96138,
           16613,
           123403,
           6287,
           490385,
           7510363,
           4319,
           240301,
           12959,
           14317,
           26270,
           6940,
           488995,
           58649,
           29550,
           9760,
           13432,
           1817,
           1716,
           18858,
           9902,
           18576,
           8156,
           382660,
           10538,
           13142,
           761557,
           7747,
           9372,
           6340,
           7736,
           3772,
           5585,
           1704,
           11914,
           8914266,
           10972,
           11139,
           4822,
           8749,
           5852,
           8879,
           1237,
           6712,
           23640,
           567851,
           377526,
           1300271,
           2097,
           5611,
           1116,
           21738,
           1614,
           1366,
           10992,
           15140,
           494960,
           2821586,
           3996625,
           2453,
           19926,
           13014,
           13248,
           8039663,
           5030,
           1318,
           939,
           14218,
           16512,
           2810250,
           3519,
           1783,
           6542,
           7554,
           18025,
           2729,
           3845,
           899616,
           77810,
           2099,
           7008,
           2468,
           9451,
           5919,
           3915,
           2097,
           2909,
           13213,
           19495,
           9625847,
           139616,
           253876,
           10040,
           9602,
           29235,
           11149,
           1880,
           25400,
           1949,
           25291,
           2666,
           4618,
           62506,
           1756,
           1843,
           7768,
           1187455,
           41617,
           2440,
           16506,
           1990,
           8736,
           1068,
           6708,
           214153,
           577,
           6778,
           216657,
           2912,
           217,
           205,
           528,
           3717,
           4016,
           15509,
           1422,
           4429,
           175838,
           3060,
           821,
           7930096,
           1685,
           23472,
           766,
           2783,
           35887,
           434,
           5940,
           85094,
           40746,
           322186,
           6183101,
           798,
           5100,
           136111,
           2799,
           712,
           1808,
           19318,
           2164,
           4295,
           20348,
           21036,
           1920,
           3409,
           3152,
           10197,
           157372,
           45855,
           74748,
           545,
           6129,
           1417,
           3206,
           461627,
           501,
           4897,
           359147,
           11165,
           64578,
           742,
           784055,
           3205,
           6087,
           3882,
           2832,
           221399,
           14640,
           8344,
           17989950,
           3062,
           3513,
           1838,
           4020,
           2389,
           8389,
           3979,
           5009,
           2458,
           4211,
           7761,
           3453,
           1573,
           351914,
           9108088,
           3445,
           1221,
           9936,
           13925,
           960,
           8542,
           460341,
           2429,
           7136,
           3793,
           2101,
           2774,
           9513,
           2673,
           1609,
           1426,
           1497,
           657,
           4850,
           2760,
           909,
           10721,
           14939,
           649,
           1444,
           2128,
           513154,
           8754,
           1584,
           924,
           1506,
           931,
           166511,
           6985,
           4300,
           6019165,
           1251,
           2986,
           955,
           5543,
           678,
           3111,
           140441,
           5702938,
           226975,
           1120,
           2955,
           113827,
           771,
           551,
           1985,
           29151,
           43542,
           13594,
           808,
           7409,
           2196,
           3263,
           215,
           1641,
           1240,
           1000,
           1442,
           756,
           2904,
           4725,
           578,
           5558,
           287,
           1408,
           382,
           7517,
           21404,
           1239,
           2296631,
           433,
           1825,
           11171,
           1696173,
           23125,
           9781,
           607,
           2546,
           18942,
           925,
           1258664,
           40665,
           11112,
           1898,
           2748,
           1190,
           757925,
           998793,
           1147041,
           23268,
           174890,
           435980,
           208149,
           8453,
           5319,
           11286,
           2343,
           34788,
           4268,
           451139,
           1161,
           3155,
           1627,
           2108,
           6357,
           7902,
           27325,
           4925,
           2108,
           24420,
           159210,
           17680,
           8488,
           2385,
           7681990,
           3018,
           3094,
           3216,
           52889,
           37291,
           414643,
           4802,
           1551763,
           3319345,
           1674,
           1640,
           10341,
           2517556,
           2615,
           16494,
           62136,
           6799,
           4541,
           2779,
           195472,
           2893,
           47692,
           2007,
           2309,
           481555,
           11251,
           7803,
           17566,
           3208,
           12935,
           17128,
           2944,
           2517,
           16086,
           2500,
           9098,
           128088,
           1319,
           17879261,
           2816,
           2640,
           709,
           799,
           4557,
           1615,
           4597,
           454,
           850,
           8089,
           401,
           359,
           543456,
           1419,
           1117,
           17606669,
           1130,
           2173701,
           1867,
           477,
           5491,
           314,
           978,
           51529,
           3657,
           4175,
           472,
           5984,
           439,
           2898,
           218343,
           5459,
           738,
           1069,
           4862,
           1402,
           518,
           771,
           1504,
           1794,
           3470,
           2018,
           848,
           348,
           2320,
           5771,
           490,
           6046,
           37189,
           1023,
           40491,
           1001,
           601,
           1616,
           2826,
           2403,
           49758,
           505753,
           4789,
           3331250,
           1226971,
           5161034,
           82075,
           7003971,
           1206522,
           364631,
           277365,
           549,
           819,
           158456,
           1181,
           443628,
           1637,
           7860,
           145450,
           1508,
           31956,
           65259,
           37397,
           912,
           61,
           25726,
           201,
           23079,
           133,
           1100,
           2370,
           2432,
           28591,
           5484,
           1698,
           3930,
           1259,
           544,
           25593,
           50215,
           690,
           2399,
           473,
           1244385,
           86130,
           945,
           22490851,
           10430,
           4507,
           51047,
           4976,
           790,
           3444,
           54859,
           209411,
           608107,
           12308049,
           2797,
           8178,
           3676,
           3475,
           575,
           1294,
           1932,
           12364,
           622,
           2082,
           720,
           5063,
           533705,
           915,
           1686,
           1059,
           33667,
           952,
           2365,
           1228,
           1654,
           1071,
           5702,
           9638,
           1806,
           9299,
           17873,
           5579,
           983,
           752,
           19052,
           5909,
           1026,
           1191,
           3153,
           6614,
           5149,
           2510,
           2031,
           11674,
           3849,
           672,
           865,
           1703,
           1763,
           3108,
           1602,
           1715,
           651,
           1057,
           821,
           19872,
           9435,
           4101,
           347672,
           396,
           1727,
           12060,
           4109,
           568,
           23772,
           61499,
           20684,
           25378,
           420017,
           9391,
           254517,
           33787,
           27166,
           1675,
           683,
           24345,
           14966577,
           1537,
           723,
           396,
           2737,
           6254,
           1874,
           391,
           1189,
           5183,
           570,
           20370,
           6649,
           14644,
           2342,
           13240,
           5233,
           294,
           12065,
           5517,
           3284,
           5859,
           3039038,
           768,
           9676935,
           7465,
           1244,
           345,
           3628,
           4617,
           4951,
           1701,
           2504,
           817,
           2350,
           2992,
           1061,
           787,
           20721,
           7085,
           6051,
           762,
           1994,
           2764,
           2058978,
           5868932,
           83046,
           415580,
           1537,
           2211,
           28613,
           2009,
           15617,
           85300,
           1551,
           795,
           1090,
           3378,
           1333,
           12309,
           971,
           2978,
           1887,
           467282,
           994,
           698,
           3161,
           1438,
           9591,
           2818,
           18793,
           8947,
           14644,
           405,
           24839,
           67374,
           6075,
           3656,
           3726,
           7401447,
           9567779,
           5835,
           5258,
           1446,
           185371,
           2533,
           10802,
           978,
           1582855,
           1828,
           4712,
           1135,
           951,
           264216,
           124247,
           758971,
           299536,
           11022,
           135640,
           48709,
           32516,
           583087,
           415166,
           16848,
           44563,
           571078,
           33533,
           4706,
           98595,
           140264,
           3793,
           1893,
           208552,
           2158115,
           1478,
           3843,
           646,
           1418,
           321,
           1159,
           945,
           4003,
           781,
           2250,
           1617,
           1089,
           1493,
           586,
           62615,
           373,
           262,
           781,
           879,
           4860924,
           1552,
           1098,
           310,
           758,
           470,
           638,
           824,
           2066,
           476,
           3958,
           40538,
           514,
           1688478,
           1317,
           1690,
           656,
           212,
           12903,
           45287,
           5637,
           1024,
           2689,
           614,
           641,
           543,
           1639,
           2866,
           257,
           614,
           1656,
           776,
           574,
           2662,
           1785,
           503,
           446,
           842,
           1319,
           503,
           498,
           638,
           6232,
           401951,
           350967,
           1646,
           7538,
           1561,
           2291,
           16171,
           103336,
           3210,
           3430,
           11410789,
           5364,
           9413379,
           8130,
           4148,
           14852,
           3170,
           879,
           296421,
           3147784,
           956,
           135399,
           3033,
           4284,
           1735,
           5246,
           20450,
           16578,
           16699,
           5830,
           325483,
           2442,
           1682,
           1495,
           5415,
           7168,
           7087,
           6888,
           114977,
           1441,
           2285,
           25165,
           1540,
           289489,
           13320,
           426005,
           39603,
           9763,
           2066,
           989,
           3521564,
           2678,
           695,
           8114,
           9680,
           1376,
           4010,
           1374,
           2083,
           5139,
           6445,
           2079,
           337140,
           8012,
           610,
           2510838,
           3525,
           4129,
           21383,
           5958,
           6083,
           1076,
           2047,
           2383,
           1058241,
           1105,
           1490,
           3559656,
           1992,
           7914,
           401,
           1194,
           657,
           8357,
           67158,
           1088,
           4934,
           3145,
           1040,
           3157,
           1898,
           652,
           930,
           419,
           1610,
           987,
           1814318,
           517024,
           1044,
           2091,
           19992,
           26294,
           2777,
           818,
           13560,
           940,
           244492,
           1100609,
           4961,
           1069,
           16323452,
           782,
           4647,
           1347,
           1940,
           2443,
           1549,
           6603,
           659300,
           547,
           9700,
           879,
           1198072,
           12578823,
           39778,
           2101,
           1197,
           1193,
           279464,
           1228,
           1264,
           3385,
           596955,
           351,
           669,
           2293,
           948,
           15224,
           4362,
           615,
           2944,
           4084,
           1226,
           19035,
           83566,
           31158,
           2241,
           2527,
           77171,
           164396,
           4799,
           2244,
           2421,
           8926508,
           633,
           711,
           950,
           3528,
           2517,
           393415,
           937,
           4629,
           2505,
           3078,
           8377,
           8345,
           8648,
           137600,
           4918293,
           26271,
           2195,
           937783,
           1100472,
           11211,
           1128616,
           8089,
           11754710,
           7776,
           3446,
           1176,
           1935,
           1152512,
           4659734,
           509664,
           4356,
           824,
           2981,
           736,
           1792,
           542213,
           12895,
           6640,
           3560485,
           790,
           343,
           1133,
           467068,
           1879689,
           1040,
           4768,
           1744,
           259,
           8990,
           1166,
           410401,
           2315,
           761,
           4033,
           1904,
           314,
           1488,
           3785,
           2546,
           1929,
           8493,
           12735,
           1073,
           982117,
           2599,
           6714,
           4265,
           210,
           44653,
           515,
           1353,
           661981,
           108334,
           6522,
           751,
           9109,
           478,
           89956,
           1265,
           2132,
           3657237,
           4007,
           7743947,
           1803,
           28730,
           5806,
           1647,
           38730,
           3755,
           3857,
           494346,
           9128,
           8824961,
           847,
           141,
           2221,
           4455,
           7684,
           1273,
           797,
           423,
           3634,
           2644,
           569,
           9246,
           2269,
           104244,
           1737,
           5007,
           1252,
           12199,
           1614,
           1792,
           10204,
           1474,
           2410,
           5683,
           2239,
           1698,
           1324,
           8519,
           8636,
           2647,
           1648,
           9290,
           141,
           1727,
           4433,
           1452,
           10859,
           790,
           4747,
           5233,
           8324,
           1369,
           1658788,
           290628,
           79827,
           269763,
           32915,
           3449,
           8784,
           7978,
           427,
           594,
           602739,
           8583,
           643,
           1173,
           780,
           8678,
           4225,
           12243,
           3892,
           3732,
           13002,
           415910,
           39128,
           808245,
           4297,
           4094,
           1190,
           11453,
           2311,
           1702,
           3299,
           8253489,
           24926,
           2988,
           4582,
           6422,
           1459,
           36364011,
           10272,
           2566,
           2434,
           3358,
           1874,
           6160,
           5723,
           3532,
           1594,
           1956,
           4345,
           941,
           841,
           2012,
           35846,
           1483,
           83821,
           1078,
           8352,
           2672,
           807,
           4991,
           744799,
           8315527,
           4134,
           8933,
           3376,
           847,
           8194,
           1473,
           4577,
           936,
           18401,
           1574,
           3264,
           1942,
           2946,
           1177,
           5153,
           1495,
           603,
           9528,
           3954,
           782,
           1428,
           2105,
           3237,
           1076,
           7136,
           1905,
           1715,
           2927,
           53763,
           2090,
           24770,
           3501,
           1708,
           5286,
           1767,
           1019,
           636848,
           802,
           8404,
           11245,
           36969,
           21644,
           5023,
           3417,
           15250,
           10553,
           1364,
           1914,
           1493,
           3355,
           1683,
           1178,
           29002,
           2000,
           685,
           764,
           1038,
           2988,
           1319,
           2347,
           1157,
           893460,
           791,
           1527,
           6127,
           18284,
           10774,
           3575,
           6588,
           1494,
           53911,
           1269,
           1116,
           878,
           4401,
           5147,
           2029,
           5303,
           3835,
           7074,
           29534902,
           1440,
           1356,
           656,
           5250,
           2459,
           1128,
           46145,
           882,
           1202,
           2239,
           3280,
           5020,
           8497,
           5683,
           2003,
           4943,
           340188,
           908,
           3585,
           10129,
           2020,
           854,
           3330,
           2033,
           3875,
           1421,
           6678,
           1769,
           12162,
           1679,
           6280,
           2995,
           86883,
           2310,
           2750408,
           4732,
           1673,
           302394,
           1581711,
           53103,
           12728,
           10026,
           1179,
           1293,
           9270,
           5778,
           3845,
           7345,
           144839,
           650229,
           27674133,
           38473,
           1258,
           229728,
           4253,
           23431081,
           6196,
           22828,
           10601,
           3018,
           132693,
           3432981,
           4182,
           885,
           1552,
           1331,
           583,
           2052,
           927695,
           982,
           2827055,
           4107,
           1572,
           1980,
           741,
           3384,
           19494,
           11206,
           15070,
           604,
           772,
           14168,
           524954,
           6073,
           6651,
           659,
           1136,
           134039,
           1544,
           11668,
           165474,
           2418
          ],
          "sizemode": "area",
          "sizeref": 90910.0275
         },
         "mode": "markers",
         "name": "",
         "showlegend": false,
         "subplot": "mapbox",
         "type": "scattermapbox"
        }
       ],
       "layout": {
        "height": 500,
        "legend": {
         "itemsizing": "constant",
         "tracegroupgap": 0
        },
        "mapbox": {
         "center": {
          "lat": 22.787228293413175,
          "lon": 79.57856766467066
         },
         "domain": {
          "x": [
           0,
           1
          ],
          "y": [
           0,
           1
          ]
         },
         "style": "carto-positron",
         "zoom": 3
        },
        "margin": {
         "t": 60
        },
        "template": {
         "data": {
          "bar": [
           {
            "error_x": {
             "color": "#2a3f5f"
            },
            "error_y": {
             "color": "#2a3f5f"
            },
            "marker": {
             "line": {
              "color": "#E5ECF6",
              "width": 0.5
             },
             "pattern": {
              "fillmode": "overlay",
              "size": 10,
              "solidity": 0.2
             }
            },
            "type": "bar"
           }
          ],
          "barpolar": [
           {
            "marker": {
             "line": {
              "color": "#E5ECF6",
              "width": 0.5
             },
             "pattern": {
              "fillmode": "overlay",
              "size": 10,
              "solidity": 0.2
             }
            },
            "type": "barpolar"
           }
          ],
          "carpet": [
           {
            "aaxis": {
             "endlinecolor": "#2a3f5f",
             "gridcolor": "white",
             "linecolor": "white",
             "minorgridcolor": "white",
             "startlinecolor": "#2a3f5f"
            },
            "baxis": {
             "endlinecolor": "#2a3f5f",
             "gridcolor": "white",
             "linecolor": "white",
             "minorgridcolor": "white",
             "startlinecolor": "#2a3f5f"
            },
            "type": "carpet"
           }
          ],
          "choropleth": [
           {
            "colorbar": {
             "outlinewidth": 0,
             "ticks": ""
            },
            "type": "choropleth"
           }
          ],
          "contour": [
           {
            "colorbar": {
             "outlinewidth": 0,
             "ticks": ""
            },
            "colorscale": [
             [
              0,
              "#0d0887"
             ],
             [
              0.1111111111111111,
              "#46039f"
             ],
             [
              0.2222222222222222,
              "#7201a8"
             ],
             [
              0.3333333333333333,
              "#9c179e"
             ],
             [
              0.4444444444444444,
              "#bd3786"
             ],
             [
              0.5555555555555556,
              "#d8576b"
             ],
             [
              0.6666666666666666,
              "#ed7953"
             ],
             [
              0.7777777777777778,
              "#fb9f3a"
             ],
             [
              0.8888888888888888,
              "#fdca26"
             ],
             [
              1,
              "#f0f921"
             ]
            ],
            "type": "contour"
           }
          ],
          "contourcarpet": [
           {
            "colorbar": {
             "outlinewidth": 0,
             "ticks": ""
            },
            "type": "contourcarpet"
           }
          ],
          "heatmap": [
           {
            "colorbar": {
             "outlinewidth": 0,
             "ticks": ""
            },
            "colorscale": [
             [
              0,
              "#0d0887"
             ],
             [
              0.1111111111111111,
              "#46039f"
             ],
             [
              0.2222222222222222,
              "#7201a8"
             ],
             [
              0.3333333333333333,
              "#9c179e"
             ],
             [
              0.4444444444444444,
              "#bd3786"
             ],
             [
              0.5555555555555556,
              "#d8576b"
             ],
             [
              0.6666666666666666,
              "#ed7953"
             ],
             [
              0.7777777777777778,
              "#fb9f3a"
             ],
             [
              0.8888888888888888,
              "#fdca26"
             ],
             [
              1,
              "#f0f921"
             ]
            ],
            "type": "heatmap"
           }
          ],
          "heatmapgl": [
           {
            "colorbar": {
             "outlinewidth": 0,
             "ticks": ""
            },
            "colorscale": [
             [
              0,
              "#0d0887"
             ],
             [
              0.1111111111111111,
              "#46039f"
             ],
             [
              0.2222222222222222,
              "#7201a8"
             ],
             [
              0.3333333333333333,
              "#9c179e"
             ],
             [
              0.4444444444444444,
              "#bd3786"
             ],
             [
              0.5555555555555556,
              "#d8576b"
             ],
             [
              0.6666666666666666,
              "#ed7953"
             ],
             [
              0.7777777777777778,
              "#fb9f3a"
             ],
             [
              0.8888888888888888,
              "#fdca26"
             ],
             [
              1,
              "#f0f921"
             ]
            ],
            "type": "heatmapgl"
           }
          ],
          "histogram": [
           {
            "marker": {
             "pattern": {
              "fillmode": "overlay",
              "size": 10,
              "solidity": 0.2
             }
            },
            "type": "histogram"
           }
          ],
          "histogram2d": [
           {
            "colorbar": {
             "outlinewidth": 0,
             "ticks": ""
            },
            "colorscale": [
             [
              0,
              "#0d0887"
             ],
             [
              0.1111111111111111,
              "#46039f"
             ],
             [
              0.2222222222222222,
              "#7201a8"
             ],
             [
              0.3333333333333333,
              "#9c179e"
             ],
             [
              0.4444444444444444,
              "#bd3786"
             ],
             [
              0.5555555555555556,
              "#d8576b"
             ],
             [
              0.6666666666666666,
              "#ed7953"
             ],
             [
              0.7777777777777778,
              "#fb9f3a"
             ],
             [
              0.8888888888888888,
              "#fdca26"
             ],
             [
              1,
              "#f0f921"
             ]
            ],
            "type": "histogram2d"
           }
          ],
          "histogram2dcontour": [
           {
            "colorbar": {
             "outlinewidth": 0,
             "ticks": ""
            },
            "colorscale": [
             [
              0,
              "#0d0887"
             ],
             [
              0.1111111111111111,
              "#46039f"
             ],
             [
              0.2222222222222222,
              "#7201a8"
             ],
             [
              0.3333333333333333,
              "#9c179e"
             ],
             [
              0.4444444444444444,
              "#bd3786"
             ],
             [
              0.5555555555555556,
              "#d8576b"
             ],
             [
              0.6666666666666666,
              "#ed7953"
             ],
             [
              0.7777777777777778,
              "#fb9f3a"
             ],
             [
              0.8888888888888888,
              "#fdca26"
             ],
             [
              1,
              "#f0f921"
             ]
            ],
            "type": "histogram2dcontour"
           }
          ],
          "mesh3d": [
           {
            "colorbar": {
             "outlinewidth": 0,
             "ticks": ""
            },
            "type": "mesh3d"
           }
          ],
          "parcoords": [
           {
            "line": {
             "colorbar": {
              "outlinewidth": 0,
              "ticks": ""
             }
            },
            "type": "parcoords"
           }
          ],
          "pie": [
           {
            "automargin": true,
            "type": "pie"
           }
          ],
          "scatter": [
           {
            "fillpattern": {
             "fillmode": "overlay",
             "size": 10,
             "solidity": 0.2
            },
            "type": "scatter"
           }
          ],
          "scatter3d": [
           {
            "line": {
             "colorbar": {
              "outlinewidth": 0,
              "ticks": ""
             }
            },
            "marker": {
             "colorbar": {
              "outlinewidth": 0,
              "ticks": ""
             }
            },
            "type": "scatter3d"
           }
          ],
          "scattercarpet": [
           {
            "marker": {
             "colorbar": {
              "outlinewidth": 0,
              "ticks": ""
             }
            },
            "type": "scattercarpet"
           }
          ],
          "scattergeo": [
           {
            "marker": {
             "colorbar": {
              "outlinewidth": 0,
              "ticks": ""
             }
            },
            "type": "scattergeo"
           }
          ],
          "scattergl": [
           {
            "marker": {
             "colorbar": {
              "outlinewidth": 0,
              "ticks": ""
             }
            },
            "type": "scattergl"
           }
          ],
          "scattermapbox": [
           {
            "marker": {
             "colorbar": {
              "outlinewidth": 0,
              "ticks": ""
             }
            },
            "type": "scattermapbox"
           }
          ],
          "scatterpolar": [
           {
            "marker": {
             "colorbar": {
              "outlinewidth": 0,
              "ticks": ""
             }
            },
            "type": "scatterpolar"
           }
          ],
          "scatterpolargl": [
           {
            "marker": {
             "colorbar": {
              "outlinewidth": 0,
              "ticks": ""
             }
            },
            "type": "scatterpolargl"
           }
          ],
          "scatterternary": [
           {
            "marker": {
             "colorbar": {
              "outlinewidth": 0,
              "ticks": ""
             }
            },
            "type": "scatterternary"
           }
          ],
          "surface": [
           {
            "colorbar": {
             "outlinewidth": 0,
             "ticks": ""
            },
            "colorscale": [
             [
              0,
              "#0d0887"
             ],
             [
              0.1111111111111111,
              "#46039f"
             ],
             [
              0.2222222222222222,
              "#7201a8"
             ],
             [
              0.3333333333333333,
              "#9c179e"
             ],
             [
              0.4444444444444444,
              "#bd3786"
             ],
             [
              0.5555555555555556,
              "#d8576b"
             ],
             [
              0.6666666666666666,
              "#ed7953"
             ],
             [
              0.7777777777777778,
              "#fb9f3a"
             ],
             [
              0.8888888888888888,
              "#fdca26"
             ],
             [
              1,
              "#f0f921"
             ]
            ],
            "type": "surface"
           }
          ],
          "table": [
           {
            "cells": {
             "fill": {
              "color": "#EBF0F8"
             },
             "line": {
              "color": "white"
             }
            },
            "header": {
             "fill": {
              "color": "#C8D4E3"
             },
             "line": {
              "color": "white"
             }
            },
            "type": "table"
           }
          ]
         },
         "layout": {
          "annotationdefaults": {
           "arrowcolor": "#2a3f5f",
           "arrowhead": 0,
           "arrowwidth": 1
          },
          "autotypenumbers": "strict",
          "coloraxis": {
           "colorbar": {
            "outlinewidth": 0,
            "ticks": ""
           }
          },
          "colorscale": {
           "diverging": [
            [
             0,
             "#8e0152"
            ],
            [
             0.1,
             "#c51b7d"
            ],
            [
             0.2,
             "#de77ae"
            ],
            [
             0.3,
             "#f1b6da"
            ],
            [
             0.4,
             "#fde0ef"
            ],
            [
             0.5,
             "#f7f7f7"
            ],
            [
             0.6,
             "#e6f5d0"
            ],
            [
             0.7,
             "#b8e186"
            ],
            [
             0.8,
             "#7fbc41"
            ],
            [
             0.9,
             "#4d9221"
            ],
            [
             1,
             "#276419"
            ]
           ],
           "sequential": [
            [
             0,
             "#0d0887"
            ],
            [
             0.1111111111111111,
             "#46039f"
            ],
            [
             0.2222222222222222,
             "#7201a8"
            ],
            [
             0.3333333333333333,
             "#9c179e"
            ],
            [
             0.4444444444444444,
             "#bd3786"
            ],
            [
             0.5555555555555556,
             "#d8576b"
            ],
            [
             0.6666666666666666,
             "#ed7953"
            ],
            [
             0.7777777777777778,
             "#fb9f3a"
            ],
            [
             0.8888888888888888,
             "#fdca26"
            ],
            [
             1,
             "#f0f921"
            ]
           ],
           "sequentialminus": [
            [
             0,
             "#0d0887"
            ],
            [
             0.1111111111111111,
             "#46039f"
            ],
            [
             0.2222222222222222,
             "#7201a8"
            ],
            [
             0.3333333333333333,
             "#9c179e"
            ],
            [
             0.4444444444444444,
             "#bd3786"
            ],
            [
             0.5555555555555556,
             "#d8576b"
            ],
            [
             0.6666666666666666,
             "#ed7953"
            ],
            [
             0.7777777777777778,
             "#fb9f3a"
            ],
            [
             0.8888888888888888,
             "#fdca26"
            ],
            [
             1,
             "#f0f921"
            ]
           ]
          },
          "colorway": [
           "#636efa",
           "#EF553B",
           "#00cc96",
           "#ab63fa",
           "#FFA15A",
           "#19d3f3",
           "#FF6692",
           "#B6E880",
           "#FF97FF",
           "#FECB52"
          ],
          "font": {
           "color": "#2a3f5f"
          },
          "geo": {
           "bgcolor": "white",
           "lakecolor": "white",
           "landcolor": "#E5ECF6",
           "showlakes": true,
           "showland": true,
           "subunitcolor": "white"
          },
          "hoverlabel": {
           "align": "left"
          },
          "hovermode": "closest",
          "mapbox": {
           "style": "light"
          },
          "paper_bgcolor": "white",
          "plot_bgcolor": "#E5ECF6",
          "polar": {
           "angularaxis": {
            "gridcolor": "white",
            "linecolor": "white",
            "ticks": ""
           },
           "bgcolor": "#E5ECF6",
           "radialaxis": {
            "gridcolor": "white",
            "linecolor": "white",
            "ticks": ""
           }
          },
          "scene": {
           "xaxis": {
            "backgroundcolor": "#E5ECF6",
            "gridcolor": "white",
            "gridwidth": 2,
            "linecolor": "white",
            "showbackground": true,
            "ticks": "",
            "zerolinecolor": "white"
           },
           "yaxis": {
            "backgroundcolor": "#E5ECF6",
            "gridcolor": "white",
            "gridwidth": 2,
            "linecolor": "white",
            "showbackground": true,
            "ticks": "",
            "zerolinecolor": "white"
           },
           "zaxis": {
            "backgroundcolor": "#E5ECF6",
            "gridcolor": "white",
            "gridwidth": 2,
            "linecolor": "white",
            "showbackground": true,
            "ticks": "",
            "zerolinecolor": "white"
           }
          },
          "shapedefaults": {
           "line": {
            "color": "#2a3f5f"
           }
          },
          "ternary": {
           "aaxis": {
            "gridcolor": "white",
            "linecolor": "white",
            "ticks": ""
           },
           "baxis": {
            "gridcolor": "white",
            "linecolor": "white",
            "ticks": ""
           },
           "bgcolor": "#E5ECF6",
           "caxis": {
            "gridcolor": "white",
            "linecolor": "white",
            "ticks": ""
           }
          },
          "title": {
           "x": 0.05
          },
          "xaxis": {
           "automargin": true,
           "gridcolor": "white",
           "linecolor": "white",
           "ticks": "",
           "title": {
            "standoff": 15
           },
           "zerolinecolor": "white",
           "zerolinewidth": 2
          },
          "yaxis": {
           "automargin": true,
           "gridcolor": "white",
           "linecolor": "white",
           "ticks": "",
           "title": {
            "standoff": 15
           },
           "zerolinecolor": "white",
           "zerolinewidth": 2
          }
         }
        },
        "title": {
         "text": ""
        }
       }
      }
     },
     "metadata": {},
     "output_type": "display_data"
    }
   ],
   "source": [
    "fig = px.scatter_mapbox(\n",
    "  merge_df, \n",
    "  lat='Latitude', lon='Longitude', \n",
    "  zoom=3, \n",
    "  height=500, \n",
    "  size='Total Votes'\n",
    "  # animation_frame='YEAR', color='ACCLASS', size='count', \n",
    "  # color_discrete_map=Utils.color_map()\n",
    ")\n",
    "fig.update_layout(title='')\n",
    "fig.update_layout(mapbox_style='carto-positron')\n",
    "fig.show()"
   ]
  }
 ],
 "metadata": {
  "kernelspec": {
   "display_name": "visualization",
   "language": "python",
   "name": "python3"
  },
  "language_info": {
   "codemirror_mode": {
    "name": "ipython",
    "version": 3
   },
   "file_extension": ".py",
   "mimetype": "text/x-python",
   "name": "python",
   "nbconvert_exporter": "python",
   "pygments_lexer": "ipython3",
   "version": "3.8.20"
  }
 },
 "nbformat": 4,
 "nbformat_minor": 2
}
